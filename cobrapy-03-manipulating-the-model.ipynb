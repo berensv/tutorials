{
 "cells": [
  {
   "cell_type": "markdown",
   "metadata": {},
   "source": [
    "# Manipulating models"
   ]
  },
  {
   "cell_type": "markdown",
   "metadata": {},
   "source": [
    "## Preparation"
   ]
  },
  {
   "cell_type": "code",
   "execution_count": 1,
   "metadata": {
    "collapsed": true
   },
   "outputs": [],
   "source": [
    "from cobra.io import read_sbml_model"
   ]
  },
  {
   "cell_type": "code",
   "execution_count": 2,
   "metadata": {
    "collapsed": true
   },
   "outputs": [],
   "source": [
    "model = read_sbml_model('data/e_coli_core.xml.gz')"
   ]
  },
  {
   "cell_type": "markdown",
   "metadata": {},
   "source": [
    "## Making temporary changes to the model (5 + 2)"
   ]
  },
  {
   "cell_type": "markdown",
   "metadata": {},
   "source": [
    "Usually one relies on making copies if objects need to be changed but the original state needs to be retained and that's we what we did previously with the `model_copy = model.copy()`. Unfortunately, metabolic models can be enormous and copying those in memory can take quite long."
   ]
  },
  {
   "cell_type": "code",
   "execution_count": 3,
   "metadata": {},
   "outputs": [
    {
     "name": "stdout",
     "output_type": "stream",
     "text": [
      "CPU times: user 16 ms, sys: 0 ns, total: 16 ms\n",
      "Wall time: 17 ms\n"
     ]
    }
   ],
   "source": [
    "%%time\n",
    "copy_of_model = model.copy()"
   ]
  },
  {
   "cell_type": "markdown",
   "metadata": {},
   "source": [
    "Yes, even milliseconds add up pretty quickly if you need to run many simulation (e.g. if you need to knock out every single gene individually in the model to check if it is essential or not)."
   ]
  },
  {
   "cell_type": "code",
   "execution_count": 4,
   "metadata": {},
   "outputs": [
    {
     "name": "stdout",
     "output_type": "stream",
     "text": [
      "CPU times: user 2.19 s, sys: 64 ms, total: 2.26 s\n",
      "Wall time: 2.25 s\n"
     ]
    }
   ],
   "source": [
    "%%time\n",
    "## avoid writing code like this...\n",
    "for gene in model.genes:\n",
    "    mutant = model.copy()\n",
    "    mutant.genes.get_by_id(gene.id).knock_out()"
   ]
  },
  {
   "cell_type": "markdown",
   "metadata": {},
   "source": [
    "For that reason cobrapy provides a mechanism that is less time consuming. Almost all methods that make changes to the model such as knocking-out genes, reactions, adding or removing metabolites, reactions, etc. can be automatically reverted upon exit from a python context. How this works is probably best understood by looking at an example."
   ]
  },
  {
   "cell_type": "code",
   "execution_count": 5,
   "metadata": {},
   "outputs": [
    {
     "name": "stdout",
     "output_type": "stream",
     "text": [
      "CPU times: user 12 ms, sys: 0 ns, total: 12 ms\n",
      "Wall time: 11.9 ms\n"
     ]
    }
   ],
   "source": [
    "%%time\n",
    "## instead do this; no copying!\n",
    "with model:\n",
    "    for gene in model.genes:\n",
    "        gene.knock_out()"
   ]
  },
  {
   "cell_type": "markdown",
   "metadata": {},
   "source": [
    "Here, the `with model` statement starts the context and changes done to the model one indentation level to the right, are automatically recorded. When that block finishes, the context manager is requested to roll-back all changes leaving the model looking exactly as it did before entering the context."
   ]
  },
  {
   "cell_type": "markdown",
   "metadata": {},
   "source": [
    "Changing flux bounds can, as indicated, also be done reversibly. For example let's set the lower and upper bound of phosphoglycerate kinase to 0 (effectively knocking out the reaction)."
   ]
  },
  {
   "cell_type": "code",
   "execution_count": 6,
   "metadata": {},
   "outputs": [
    {
     "name": "stdout",
     "output_type": "stream",
     "text": [
      "PGK's bounds inside the with statement\n",
      "0 (0, 0)\n",
      "Mutant growth rate:  0.0\n",
      "PGK's bounds outside the with statement\n",
      "(-1000.0, 1000.0)\n"
     ]
    }
   ],
   "source": [
    "with model:\n",
    "    model.reactions.PGK.bounds = 0, 0\n",
    "    print(\"PGK's bounds inside the with statement\")\n",
    "    print(model.reactions.PGK.lower_bound, model.reactions.PGK.bounds)\n",
    "    print('Mutant growth rate: ', model.optimize().objective_value)\n",
    "print(\"PGK's bounds outside the with statement\")\n",
    "print(model.reactions.PGK.bounds)"
   ]
  },
  {
   "cell_type": "markdown",
   "metadata": {},
   "source": [
    "### Exercises"
   ]
  },
  {
   "cell_type": "markdown",
   "metadata": {},
   "source": [
    "Convert the cell below to code and fill in the blanks"
   ]
  },
  {
   "cell_type": "code",
   "execution_count": 7,
   "metadata": {},
   "outputs": [
    {
     "name": "stdout",
     "output_type": "stream",
     "text": [
      "growth without PGM is max 0.0\n"
     ]
    }
   ],
   "source": [
    "# is the PGM reaction essential?\n",
    "with model:\n",
    "    model.reactions.PGM.bounds = 0,0 # Setting bounds to (0,0) so it doesn't run\n",
    "    trying =  model.optimize().objective_value # Optimizing the objective value (biomass production)\n",
    "    print('growth without PGM is max', trying) # Since result is 0.0, PGM rxn is essential\n",
    "        \n",
    "    "
   ]
  },
  {
   "cell_type": "markdown",
   "metadata": {},
   "source": [
    "## Changing the medium (2 + 3)"
   ]
  },
  {
   "cell_type": "markdown",
   "metadata": {},
   "source": [
    "One can access the medium condition using `model.medium`. The indicated bound is the effective upper uptake bound. "
   ]
  },
  {
   "cell_type": "code",
   "execution_count": 7,
   "metadata": {},
   "outputs": [
    {
     "data": {
      "text/plain": [
       "{'EX_co2_e': 1000.0,\n",
       " 'EX_glc__D_e': 10.0,\n",
       " 'EX_h2o_e': 1000.0,\n",
       " 'EX_h_e': 1000.0,\n",
       " 'EX_nh4_e': 1000.0,\n",
       " 'EX_o2_e': 1000.0,\n",
       " 'EX_pi_e': 1000.0}"
      ]
     },
     "execution_count": 7,
     "metadata": {},
     "output_type": "execute_result"
    }
   ],
   "source": [
    "model.medium"
   ]
  },
  {
   "cell_type": "markdown",
   "metadata": {},
   "source": [
    "Changing the carbon source in the medium can be achieved by adjusting the flux bounds of the respective exchange reactions appropriately. For example, the following code block removes glucose from the medium and adds succinate."
   ]
  },
  {
   "cell_type": "code",
   "execution_count": 11,
   "metadata": {},
   "outputs": [
    {
     "name": "stdout",
     "output_type": "stream",
     "text": [
      "0.39756301542776384\n"
     ]
    }
   ],
   "source": [
    "mediums = model.medium\n",
    "with model:\n",
    "    mediums['EX_glc__D_e'] = 0\n",
    "    mediums['EX_succ_e'] = 10\n",
    "    model.medium = mediums\n",
    "    solution = model.optimize()\n",
    "    print(solution.fluxes['BIOMASS_Ecoli_core_w_GAM'])"
   ]
  },
  {
   "cell_type": "markdown",
   "metadata": {},
   "source": [
    "Changing the carbon source to succinate led to a significant drop in growth rate."
   ]
  },
  {
   "cell_type": "markdown",
   "metadata": {},
   "source": [
    "### Exercise"
   ]
  },
  {
   "cell_type": "markdown",
   "metadata": {},
   "source": [
    "Convert the cell below to code and fill in the blanks"
   ]
  },
  {
   "cell_type": "code",
   "execution_count": null,
   "metadata": {},
   "outputs": [
    {
     "name": "stdout",
     "output_type": "stream",
     "text": [
      "0.3707405207962852\n",
      "0.8739215069684307\n"
     ]
    }
   ],
   "source": [
    "# what is the max growth rate when growing on fumarate instead of glucose\n",
    "\n",
    "\n",
    "# Attempting a different medium with fumarate (Other_Carbon_Medium)\n",
    "other_carbon_medium = model.medium\n",
    "\n",
    "with model:\n",
    "    other_carbon_medium['EX_glc__D_e'] = 0\n",
    "    other_carbon_medium['EX_fum_e'] = 10\n",
    "    model.medium = other_carbon_medium\n",
    "    solution = model.optimize()\n",
    "    print(solution.fluxes['BIOMASS_Ecoli_core_w_GAM'])\n",
    "\n",
    "\n",
    "# Since method restores original model without making a direct copy of it, here is the /\n",
    "# Original medium with glucose (Main_Medium)\n",
    "Main_Medium = model.optimize()\n",
    "print(Main_Medium.fluxes['BIOMASS_Ecoli_core_w_GAM'])"
   ]
  },
  {
   "cell_type": "markdown",
   "metadata": {},
   "source": [
    "## Adding metabolites, reactions and pathways (10 + 10)"
   ]
  },
  {
   "cell_type": "code",
   "execution_count": 15,
   "metadata": {
    "collapsed": true
   },
   "outputs": [],
   "source": [
    "from cobra import Reaction, Metabolite"
   ]
  },
  {
   "cell_type": "markdown",
   "metadata": {},
   "source": [
    "Ok, let's create a new reactions."
   ]
  },
  {
   "cell_type": "code",
   "execution_count": null,
   "metadata": {
    "collapsed": true
   },
   "outputs": [],
   "source": [
    "new_reaction = Reaction('alchemy')"
   ]
  },
  {
   "cell_type": "markdown",
   "metadata": {},
   "source": [
    "This reaction is going to convert water into gold. First we need to create a new metabolite, since gold is not yet part of *E. coli's* native metabolism."
   ]
  },
  {
   "cell_type": "code",
   "execution_count": 17,
   "metadata": {
    "collapsed": true
   },
   "outputs": [],
   "source": [
    "gold = Metabolite(id='gold_c', compartment='c', name='GOLD')"
   ]
  },
  {
   "cell_type": "markdown",
   "metadata": {},
   "source": [
    "Now, we're going to specify the reaction's stoichiometry."
   ]
  },
  {
   "cell_type": "code",
   "execution_count": 18,
   "metadata": {
    "collapsed": true
   },
   "outputs": [],
   "source": [
    "new_reaction.add_metabolites({model.metabolites.h2o_c: -1, gold: 1})"
   ]
  },
  {
   "cell_type": "markdown",
   "metadata": {},
   "source": [
    "Printing the reaction reveals that the reaction indeed converts water into gold."
   ]
  },
  {
   "cell_type": "code",
   "execution_count": 19,
   "metadata": {},
   "outputs": [
    {
     "name": "stdout",
     "output_type": "stream",
     "text": [
      "h2o_c --> gold_c\n"
     ]
    }
   ],
   "source": [
    "print(new_reaction.build_reaction_string())"
   ]
  },
  {
   "cell_type": "markdown",
   "metadata": {},
   "source": [
    "Now, let's add the new reaction to the model."
   ]
  },
  {
   "cell_type": "code",
   "execution_count": null,
   "metadata": {
    "collapsed": true
   },
   "outputs": [],
   "source": [
    "model.add_reactions([new_reaction])"
   ]
  },
  {
   "cell_type": "markdown",
   "metadata": {},
   "source": [
    "Quickly check that the reaction was indeed added to the model."
   ]
  },
  {
   "cell_type": "code",
   "execution_count": 21,
   "metadata": {},
   "outputs": [
    {
     "data": {
      "text/html": [
       "\n",
       "        <table>\n",
       "            <tr>\n",
       "                <td><strong>Reaction identifier</strong></td><td>alchemy</td>\n",
       "            </tr><tr>\n",
       "                <td><strong>Name</strong></td><td></td>\n",
       "            </tr><tr>\n",
       "                <td><strong>Memory address</strong></td>\n",
       "                <td>0x1b08df9a020</td>\n",
       "            </tr><tr>\n",
       "                <td><strong>Stoichiometry</strong></td>\n",
       "                <td>\n",
       "                    <p style='text-align:right'>h2o_c --> gold_c</p>\n",
       "                    <p style='text-align:right'>H2O --> GOLD</p>\n",
       "                </td>\n",
       "            </tr><tr>\n",
       "                <td><strong>GPR</strong></td><td></td>\n",
       "            </tr><tr>\n",
       "                <td><strong>Lower bound</strong></td><td>0.0</td>\n",
       "            </tr><tr>\n",
       "                <td><strong>Upper bound</strong></td><td>1000.0</td>\n",
       "            </tr>\n",
       "        </table>\n",
       "        "
      ],
      "text/plain": [
       "<Reaction alchemy at 0x1b08df9a020>"
      ]
     },
     "execution_count": 21,
     "metadata": {},
     "output_type": "execute_result"
    }
   ],
   "source": [
    "model.reactions.alchemy"
   ]
  },
  {
   "cell_type": "markdown",
   "metadata": {},
   "source": [
    "Let's produce some gold then!"
   ]
  },
  {
   "cell_type": "code",
   "execution_count": 22,
   "metadata": {},
   "outputs": [
    {
     "data": {
      "text/plain": [
       "0.0"
      ]
     },
     "execution_count": 22,
     "metadata": {},
     "output_type": "execute_result"
    }
   ],
   "source": [
    "model.objective = model.reactions.alchemy\n",
    "model.optimize().objective_value"
   ]
  },
  {
   "cell_type": "markdown",
   "metadata": {},
   "source": [
    ":-(\n",
    "\n",
    "What happened? Forgot to add an exchange reaction so that gold can leave the system."
   ]
  },
  {
   "cell_type": "code",
   "execution_count": 17,
   "metadata": {},
   "outputs": [
    {
     "data": {
      "text/html": [
       "\n",
       "        <table>\n",
       "            <tr>\n",
       "                <td><strong>Reaction identifier</strong></td><td>DM_gold_c</td>\n",
       "            </tr><tr>\n",
       "                <td><strong>Name</strong></td><td>GOLD demand</td>\n",
       "            </tr><tr>\n",
       "                <td><strong>Memory address</strong></td>\n",
       "                <td>0x07f3d95b28da0</td>\n",
       "            </tr><tr>\n",
       "                <td><strong>Stoichiometry</strong></td>\n",
       "                <td>\n",
       "                    <p style='text-align:right'>gold_c --> </p>\n",
       "                    <p style='text-align:right'>GOLD --> </p>\n",
       "                </td>\n",
       "            </tr><tr>\n",
       "                <td><strong>GPR</strong></td><td></td>\n",
       "            </tr><tr>\n",
       "                <td><strong>Lower bound</strong></td><td>0</td>\n",
       "            </tr><tr>\n",
       "                <td><strong>Upper bound</strong></td><td>1000.0</td>\n",
       "            </tr>\n",
       "        </table>\n",
       "        "
      ],
      "text/plain": [
       "<Reaction DM_gold_c at 0x7f3d95b28da0>"
      ]
     },
     "execution_count": 17,
     "metadata": {},
     "output_type": "execute_result"
    }
   ],
   "source": [
    "model.add_boundary(model.metabolites.gold_c, type='demand')"
   ]
  },
  {
   "cell_type": "code",
   "execution_count": 18,
   "metadata": {},
   "outputs": [
    {
     "data": {
      "text/plain": [
       "1000.0"
      ]
     },
     "execution_count": 18,
     "metadata": {},
     "output_type": "execute_result"
    }
   ],
   "source": [
    "model.objective = model.reactions.alchemy\n",
    "model.optimize().objective_value"
   ]
  },
  {
   "cell_type": "markdown",
   "metadata": {},
   "source": [
    "Yes, much better!"
   ]
  },
  {
   "cell_type": "markdown",
   "metadata": {},
   "source": [
    "### Exercise"
   ]
  },
  {
   "cell_type": "markdown",
   "metadata": {},
   "source": [
    "\n",
    "Convert the cell below to code and fill in the blanks. Add a magic pathway that converts glucose directly to ATP. Does this lead to an increase in growth rate?"
   ]
  },
  {
   "cell_type": "code",
   "execution_count": null,
   "metadata": {},
   "outputs": [],
   "source": [
    "# Trying to figure out metabolite identifiers\n",
    "from cobra.io import read_sbml_model\n",
    "model = read_sbml_model(\"data/e_coli_core.xml.gz\")\n",
    "\n",
    "# List all metabolites\n",
    "for met in model.metabolites:\n",
    "    print(met.id, met.name)\n",
    "\n",
    "print(len(model.metabolites))"
   ]
  },
  {
   "cell_type": "code",
   "execution_count": 49,
   "metadata": {},
   "outputs": [
    {
     "name": "stdout",
     "output_type": "stream",
     "text": [
      "BIOMASS_Ecoli_core_w_GAM: 1.496 3pg_c + 3.7478 accoa_c + 59.81 atp_c + 0.361 e4p_c + 0.0709 f6p_c + 0.129 g3p_c + 0.205 g6p_c + 0.2557 gln__L_c + 4.9414 glu__L_c + 59.81 h2o_c + 3.547 nad_c + 13.0279 nadph_c + 1.7867 oaa_c + 0.5191 pep_c + 2.8328 pyr_c + 0.8977 r5p_c --> 59.81 adp_c + 4.1182 akg_c + 3.7478 coa_c + 59.81 h_c + 3.547 nadh_c + 13.0279 nadp_c + 59.81 pi_c Biomass Objective Function with GAM\n",
      "SUCOAS: atp_c + coa_c + succ_c <=> adp_c + pi_c + succoa_c Succinyl-CoA synthetase (ADP-forming)\n",
      "PPCK: atp_c + oaa_c --> adp_c + co2_c + pep_c Phosphoenolpyruvate carboxykinase\n",
      "PPS: atp_c + h2o_c + pyr_c --> amp_c + 2.0 h_c + pep_c + pi_c Phosphoenolpyruvate synthase\n",
      "PFK: atp_c + f6p_c --> adp_c + fdp_c + h_c Phosphofructokinase\n",
      "GLNS: atp_c + glu__L_c + nh4_c --> adp_c + gln__L_c + h_c + pi_c Glutamine synthetase\n",
      "ATPM: atp_c + h2o_c --> adp_c + h_c + pi_c ATP maintenance requirement\n",
      "ADK1: amp_c + atp_c <=> 2.0 adp_c Adenylate kinase\n",
      "PYK: adp_c + h_c + pep_c --> atp_c + pyr_c Pyruvate kinase\n",
      "GLNabc: atp_c + gln__L_e + h2o_c --> adp_c + gln__L_c + h_c + pi_c GLNabc\n",
      "ATPS4r: adp_c + 4.0 h_e + pi_c <=> atp_c + h2o_c + 3.0 h_c ATP synthase (four protons for one ATP)\n",
      "PGK: 3pg_c + atp_c <=> 13dpg_c + adp_c Phosphoglycerate kinase\n",
      "ACKr: ac_c + atp_c <=> actp_c + adp_c Acetate kinase\n"
     ]
    }
   ],
   "source": [
    "# Understanding effects on flux\n",
    "for reaction in model.metabolites.atp_c.reactions:\n",
    "    print(reaction, reaction.name)"
   ]
  },
  {
   "cell_type": "code",
   "execution_count": 68,
   "metadata": {},
   "outputs": [
    {
     "name": "stdout",
     "output_type": "stream",
     "text": [
      "g6p_c --> 55 atp_c\n",
      "0.775891153206166\n",
      "0.8739215069684334\n"
     ]
    }
   ],
   "source": [
    "from cobra import Reaction, Metabolite\n",
    "model.objective = model.reactions.BIOMASS_Ecoli_core_w_GAM\n",
    "\n",
    "\n",
    "with model:\n",
    "    # function name = (function)(('title'))\n",
    "    magic_reaction = Reaction('magic')\n",
    "\n",
    "    # Creating the reaction, and defining stoichiometry\n",
    "    magic_reaction.add_metabolites({model.metabolites.g6p_c: -1, model.metabolites.atp_c: 55})\n",
    "\n",
    "    # printing the reaction as a string\n",
    "    print(magic_reaction.build_reaction_string())\n",
    "\n",
    "    # adding bounds to make the rxn irreversible (or force the reaction pathway)\n",
    "    magic_reaction.lower_bound = 1   # Reaction must carry at least 10 units of flux\n",
    "    magic_reaction.upper_bound = 100 # Reaction can carry up to 100\n",
    "\n",
    "    # even with these bounds and an extreme yield (1 -> 55) on this rxn provided, the cells don't \n",
    "    # need this pathway, and it is actually and unfavorable alternative to the methods it \\\n",
    "    # it is currently employing \n",
    "\n",
    "    #Adding the reaction to the model\n",
    "    model.add_reactions([magic_reaction])\n",
    "\n",
    "    # Since this is within the (with model) statement, this has at least temporarily added /\n",
    "    # added the rxn to the model\n",
    "    model.reactions.magic\n",
    "\n",
    "    \n",
    "    model.add_boundary(model.metabolites.atp_c, type='demand')\n",
    "\n",
    "    Magic_Model = model.optimize()\n",
    "    print(Magic_Model.fluxes['BIOMASS_Ecoli_core_w_GAM'])\n",
    "\n",
    "\n",
    "Original_Flux = model.optimize()\n",
    "print(Original_Flux.fluxes['BIOMASS_Ecoli_core_w_GAM'])"
   ]
  },
  {
   "cell_type": "markdown",
   "metadata": {},
   "source": [
    "Time left? Add a pathway of your choice and optimize for flux through it!"
   ]
  }
 ],
 "metadata": {
  "anaconda-cloud": {},
  "kernelspec": {
   "display_name": "summer_chan_lab",
   "language": "python",
   "name": "python3"
  },
  "language_info": {
   "codemirror_mode": {
    "name": "ipython",
    "version": 3
   },
   "file_extension": ".py",
   "mimetype": "text/x-python",
   "name": "python",
   "nbconvert_exporter": "python",
   "pygments_lexer": "ipython3",
   "version": "3.10.18"
  },
  "toc": {
   "colors": {
    "hover_highlight": "#DAA520",
    "navigate_num": "#000000",
    "navigate_text": "#333333",
    "running_highlight": "#FF0000",
    "selected_highlight": "#FFD700",
    "sidebar_border": "#EEEEEE",
    "wrapper_background": "#FFFFFF"
   },
   "moveMenuLeft": true,
   "nav_menu": {
    "height": "173px",
    "width": "252px"
   },
   "navigate_menu": true,
   "number_sections": false,
   "sideBar": true,
   "threshold": "3",
   "toc_cell": false,
   "toc_section_display": "block",
   "toc_window_display": true,
   "widenNotebook": false
  }
 },
 "nbformat": 4,
 "nbformat_minor": 1
}
