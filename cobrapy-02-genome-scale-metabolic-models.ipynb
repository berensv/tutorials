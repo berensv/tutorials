{
 "cells": [
  {
   "cell_type": "markdown",
   "metadata": {},
   "source": [
    "# Genome-scale metabolic models"
   ]
  },
  {
   "cell_type": "markdown",
   "metadata": {},
   "source": [
    "## Preparation"
   ]
  },
  {
   "cell_type": "code",
   "execution_count": 1,
   "metadata": {
    "collapsed": true
   },
   "outputs": [],
   "source": [
    "from cobra.io import read_sbml_model"
   ]
  },
  {
   "cell_type": "code",
   "execution_count": 2,
   "metadata": {
    "collapsed": true
   },
   "outputs": [],
   "source": [
    "model = read_sbml_model('data/iJO1366.xml.gz')"
   ]
  },
  {
   "cell_type": "markdown",
   "metadata": {},
   "source": [
    "## What is in a genome-scale metabolic model? (10 + 5)"
   ]
  },
  {
   "cell_type": "code",
   "execution_count": 3,
   "metadata": {},
   "outputs": [
    {
     "data": {
      "text/html": [
       "\n",
       "        <table>\n",
       "            <tr>\n",
       "                <td><strong>Name</strong></td>\n",
       "                <td>iJO1366</td>\n",
       "            </tr><tr>\n",
       "                <td><strong>Memory address</strong></td>\n",
       "                <td>1e4e38b2a10</td>\n",
       "            </tr><tr>\n",
       "                <td><strong>Number of metabolites</strong></td>\n",
       "                <td>1805</td>\n",
       "            </tr><tr>\n",
       "                <td><strong>Number of reactions</strong></td>\n",
       "                <td>2583</td>\n",
       "            </tr><tr>\n",
       "                <td><strong>Number of genes</strong></td>\n",
       "                <td>1367</td>\n",
       "            </tr><tr>\n",
       "                <td><strong>Number of groups</strong></td>\n",
       "                <td>36</td>\n",
       "            </tr><tr>\n",
       "                <td><strong>Objective expression</strong></td>\n",
       "                <td>1.0*BIOMASS_Ec_iJO1366_core_53p95M - 1.0*BIOMASS_Ec_iJO1366_core_53p95M_reverse_5c8b1</td>\n",
       "            </tr><tr>\n",
       "                <td><strong>Compartments</strong></td>\n",
       "                <td>cytosol, extracellular space, periplasm</td>\n",
       "            </tr>\n",
       "          </table>"
      ],
      "text/plain": [
       "<Model iJO1366 at 0x1e4e38b2a10>"
      ]
     },
     "execution_count": 3,
     "metadata": {},
     "output_type": "execute_result"
    }
   ],
   "source": [
    "model"
   ]
  },
  {
   "cell_type": "markdown",
   "metadata": {},
   "source": [
    "### Metabolites"
   ]
  },
  {
   "cell_type": "markdown",
   "metadata": {},
   "source": [
    "The model contains a list of metabolites. Here are the first ten."
   ]
  },
  {
   "cell_type": "code",
   "execution_count": null,
   "metadata": {},
   "outputs": [
    {
     "data": {
      "text/plain": [
       "[<Metabolite 10fthf_c at 0x19801bf1510>,\n",
       " <Metabolite 12dgr120_c at 0x19801bf1570>,\n",
       " <Metabolite 12dgr140_c at 0x19801bf15a0>,\n",
       " <Metabolite 12dgr141_c at 0x19801bf1690>,\n",
       " <Metabolite 12dgr160_c at 0x19801bf1750>,\n",
       " <Metabolite 12dgr161_c at 0x19801bf16f0>,\n",
       " <Metabolite 12dgr180_c at 0x19801bf15d0>,\n",
       " <Metabolite 12dgr181_c at 0x19801bf16c0>,\n",
       " <Metabolite 12ppd__R_c at 0x19801bf1780>,\n",
       " <Metabolite 12ppd__S_c at 0x19801bf17b0>]"
      ]
     },
     "execution_count": 3,
     "metadata": {},
     "output_type": "execute_result"
    }
   ],
   "source": [
    "model.metabolites[0:10]\n",
    "# printed [0, (inc) 9]"
   ]
  },
  {
   "cell_type": "markdown",
   "metadata": {},
   "source": [
    "There are 1805 metabolites in the model."
   ]
  },
  {
   "cell_type": "code",
   "execution_count": 4,
   "metadata": {},
   "outputs": [
    {
     "data": {
      "text/plain": [
       "1805"
      ]
     },
     "execution_count": 4,
     "metadata": {},
     "output_type": "execute_result"
    }
   ],
   "source": [
    "len(model.metabolites)"
   ]
  },
  {
   "cell_type": "markdown",
   "metadata": {},
   "source": [
    "One can access a specific metabolite using dot notation."
   ]
  },
  {
   "cell_type": "code",
   "execution_count": null,
   "metadata": {},
   "outputs": [
    {
     "data": {
      "text/html": [
       "\n",
       "        <table>\n",
       "            <tr>\n",
       "                <td><strong>Metabolite identifier</strong></td><td>g3p_c</td>\n",
       "            </tr><tr>\n",
       "                <td><strong>Name</strong></td><td>Glyceraldehyde 3-phosphate</td>\n",
       "            </tr><tr>\n",
       "                <td><strong>Memory address</strong></td>\n",
       "                <td>0x19801c64bb0</td>\n",
       "            </tr><tr>\n",
       "                <td><strong>Formula</strong></td><td>C3H5O6P</td>\n",
       "            </tr><tr>\n",
       "                <td><strong>Compartment</strong></td><td>c</td>\n",
       "            </tr><tr>\n",
       "                <td><strong>In 14 reaction(s)</strong></td><td>\n",
       "                    TRPS3, TPI, GAPD, TALA, EDA, TGBPA, TKT2, DXPS, F6PA, TRPS1, TKT1, DRPA, FBA, DDPGALA\n",
       "                    </td>\n",
       "            </tr>\n",
       "        </table>"
      ],
      "text/plain": [
       "<Metabolite g3p_c at 0x19801c64bb0>"
      ]
     },
     "execution_count": 9,
     "metadata": {},
     "output_type": "execute_result"
    }
   ],
   "source": [
    "model.metabolites.g3p_c\n",
    "# model.metabolites.g6p_c"
   ]
  },
  {
   "cell_type": "markdown",
   "metadata": {},
   "source": [
    "<div class=\"alert alert-warning\">\n",
    "\n",
    "**Warning:** One cannot use dot notation to access metabolites, reactions, or genes if their identifiers do not resemble proper Python variable names.\n",
    "\n",
    "</div>"
   ]
  },
  {
   "cell_type": "code",
   "execution_count": null,
   "metadata": {
    "collapsed": true
   },
   "outputs": [],
   "source": [
    "# the line below results in an error, uncomment to try\n",
    "# model.metabolites.10fthf_c\n",
    "\n",
    "\n",
    "#  File \"<ipython-input-5-2772b042e9ed>\", line 1\n",
    "#     model.metabolites.10fthf_c\n",
    "#                        ^\n",
    "# SyntaxError: invalid syntax\n",
    "\n",
    "# use get_by_id when model.metabolites doesn't work if the name doesn't directly match with the proper\n",
    "# Python variable name"
   ]
  },
  {
   "cell_type": "markdown",
   "metadata": {},
   "source": [
    "<div class=\"alert alert-success\">\n",
    "\n",
    "**Solution:** Use the method `get_by_id` instead!\n",
    "\n",
    "</div>"
   ]
  },
  {
   "cell_type": "code",
   "execution_count": 8,
   "metadata": {},
   "outputs": [
    {
     "data": {
      "text/html": [
       "\n",
       "        <table>\n",
       "            <tr>\n",
       "                <td><strong>Metabolite identifier</strong></td><td>10fthf_c</td>\n",
       "            </tr><tr>\n",
       "                <td><strong>Name</strong></td><td>10-Formyltetrahydrofolate</td>\n",
       "            </tr><tr>\n",
       "                <td><strong>Memory address</strong></td>\n",
       "                <td>0x07f608bbae358</td>\n",
       "            </tr><tr>\n",
       "                <td><strong>Formula</strong></td><td>C20H21N7O7</td>\n",
       "            </tr><tr>\n",
       "                <td><strong>Compartment</strong></td><td>c</td>\n",
       "            </tr><tr>\n",
       "                <td><strong>In 9 reaction(s)</strong></td><td>\n",
       "                    BIOMASS_Ec_iJO1366_WT_53p95M, FMETTRS, AICART, FTHFD, MTHFC, FTHFLi, GARFT, ULA4NFT, BIOMASS_Ec_iJO1366_core_53p95M</td>\n",
       "            </tr>\n",
       "        </table>"
      ],
      "text/plain": [
       "<Metabolite 10fthf_c at 0x7f608bbae358>"
      ]
     },
     "execution_count": 8,
     "metadata": {},
     "output_type": "execute_result"
    }
   ],
   "source": [
    "model.metabolites.get_by_id('10fthf_c')"
   ]
  },
  {
   "cell_type": "code",
   "execution_count": null,
   "metadata": {},
   "outputs": [],
   "source": [
    "# EXTRA COMMENTS: \n",
    "# Metabolites are associated with compartments in the cell. \n",
    "# Glyceraldehyde 3-phosphate (`g3p_c`) is associated with the `c` \n",
    "# 'c' => (Cytosol) compartment."
   ]
  },
  {
   "cell_type": "code",
   "execution_count": null,
   "metadata": {},
   "outputs": [
    {
     "data": {
      "text/plain": [
       "'c'"
      ]
     },
     "execution_count": 10,
     "metadata": {},
     "output_type": "execute_result"
    }
   ],
   "source": [
    "model.metabolites.g3p_c.compartment\n",
    "# reveals the compartment which contains this metabolite"
   ]
  },
  {
   "cell_type": "markdown",
   "metadata": {},
   "source": [
    "The _E. coli_ model has three compartments."
   ]
  },
  {
   "cell_type": "code",
   "execution_count": 11,
   "metadata": {},
   "outputs": [
    {
     "data": {
      "text/plain": [
       "{'c': 'cytosol', 'e': 'extracellular space', 'p': 'periplasm'}"
      ]
     },
     "execution_count": 11,
     "metadata": {},
     "output_type": "execute_result"
    }
   ],
   "source": [
    "model.compartments"
   ]
  },
  {
   "cell_type": "markdown",
   "metadata": {},
   "source": [
    "Some metabolites (like Glucose for example) can be associated with multiple compartments."
   ]
  },
  {
   "cell_type": "code",
   "execution_count": 4,
   "metadata": {},
   "outputs": [
    {
     "data": {
      "text/plain": [
       "'c'"
      ]
     },
     "execution_count": 4,
     "metadata": {},
     "output_type": "execute_result"
    }
   ],
   "source": [
    "model.metabolites.glc__D_c.compartment"
   ]
  },
  {
   "cell_type": "code",
   "execution_count": 5,
   "metadata": {},
   "outputs": [
    {
     "data": {
      "text/plain": [
       "'p'"
      ]
     },
     "execution_count": 5,
     "metadata": {},
     "output_type": "execute_result"
    }
   ],
   "source": [
    "model.metabolites.glc__D_p.compartment"
   ]
  },
  {
   "cell_type": "markdown",
   "metadata": {},
   "source": [
    "The full name of the metabolite is available via the `.name` attribute. "
   ]
  },
  {
   "cell_type": "markdown",
   "metadata": {},
   "source": []
  },
  {
   "cell_type": "code",
   "execution_count": 13,
   "metadata": {},
   "outputs": [
    {
     "data": {
      "text/plain": [
       "'D-Glucose'"
      ]
     },
     "execution_count": 13,
     "metadata": {},
     "output_type": "execute_result"
    }
   ],
   "source": [
    "model.metabolites.glc__D_c.name"
   ]
  },
  {
   "cell_type": "markdown",
   "metadata": {},
   "source": [
    "One can look up the molecular formula of glucose."
   ]
  },
  {
   "cell_type": "code",
   "execution_count": 14,
   "metadata": {},
   "outputs": [
    {
     "data": {
      "text/plain": [
       "'C3H5O6P'"
      ]
     },
     "execution_count": 14,
     "metadata": {},
     "output_type": "execute_result"
    }
   ],
   "source": [
    "model.metabolites.g3p_c.formula"
   ]
  },
  {
   "cell_type": "markdown",
   "metadata": {},
   "source": [
    "The `.elements` attribute returns a dictionary representation of the formula."
   ]
  },
  {
   "cell_type": "code",
   "execution_count": 15,
   "metadata": {},
   "outputs": [
    {
     "data": {
      "text/plain": [
       "{'C': 3, 'H': 5, 'O': 6, 'P': 1}"
      ]
     },
     "execution_count": 15,
     "metadata": {},
     "output_type": "execute_result"
    }
   ],
   "source": [
    "model.metabolites.g3p_c.elements"
   ]
  },
  {
   "cell_type": "markdown",
   "metadata": {},
   "source": [
    "Furthermore, one can look up the molecular weight of a metabolite."
   ]
  },
  {
   "cell_type": "code",
   "execution_count": 16,
   "metadata": {},
   "outputs": [
    {
     "data": {
      "text/plain": [
       "168.041961"
      ]
     },
     "execution_count": 16,
     "metadata": {},
     "output_type": "execute_result"
    }
   ],
   "source": [
    "model.metabolites.g3p_c.formula_weight"
   ]
  },
  {
   "cell_type": "markdown",
   "metadata": {},
   "source": [
    "One can gather additional information (like references to external datbases) about the metabolite through the annotation attribute."
   ]
  },
  {
   "cell_type": "code",
   "execution_count": 17,
   "metadata": {},
   "outputs": [
    {
     "data": {
      "text/plain": [
       "{'SBO': 'SBO:0000247',\n",
       " 'bigg.metabolite': 'g3p',\n",
       " 'biocyc': 'META:GAP',\n",
       " 'chebi': ['CHEBI:12983',\n",
       "  'CHEBI:12984',\n",
       "  'CHEBI:14333',\n",
       "  'CHEBI:17138',\n",
       "  'CHEBI:181',\n",
       "  'CHEBI:18324',\n",
       "  'CHEBI:21026',\n",
       "  'CHEBI:29052',\n",
       "  'CHEBI:5446',\n",
       "  'CHEBI:58027',\n",
       "  'CHEBI:59776'],\n",
       " 'hmdb': 'HMDB01112',\n",
       " 'kegg.compound': ['C00118', 'C00661'],\n",
       " 'metanetx.chemical': 'MNXM2378',\n",
       " 'reactome': '29578',\n",
       " 'seed.compound': 'cpd00102',\n",
       " 'unipathway.compound': ['UPC00118', 'UPC00661']}"
      ]
     },
     "execution_count": 17,
     "metadata": {},
     "output_type": "execute_result"
    }
   ],
   "source": [
    "model.metabolites.g3p_c.annotation"
   ]
  },
  {
   "cell_type": "markdown",
   "metadata": {},
   "source": [
    "One can use these annotations to look up the compound on [KEGG](http://www.genome.jp/dbget-bin/www_bget?cpd:C00118) for example."
   ]
  },
  {
   "cell_type": "markdown",
   "metadata": {},
   "source": [
    "Metabolites are not isolated things. They participate in reactions as substrates and products."
   ]
  },
  {
   "cell_type": "code",
   "execution_count": 18,
   "metadata": {},
   "outputs": [
    {
     "data": {
      "text/plain": [
       "frozenset({<Reaction F6PA at 0x7f608b51d828>,\n",
       "           <Reaction TKT2 at 0x7f608b25f630>,\n",
       "           <Reaction EDA at 0x7f608b4eb240>,\n",
       "           <Reaction TALA at 0x7f608b2c9e48>,\n",
       "           <Reaction DRPA at 0x7f608b52f860>,\n",
       "           <Reaction DXPS at 0x7f608b501470>,\n",
       "           <Reaction TPI at 0x7f608b278a58>,\n",
       "           <Reaction TRPS1 at 0x7f608b2f8860>,\n",
       "           <Reaction TGBPA at 0x7f608b2f44e0>,\n",
       "           <Reaction GAPD at 0x7f608b558ef0>,\n",
       "           <Reaction TKT1 at 0x7f608b25f0f0>,\n",
       "           <Reaction DDPGALA at 0x7f608b5cb940>,\n",
       "           <Reaction FBA at 0x7f608b519978>,\n",
       "           <Reaction TRPS3 at 0x7f608b2f8be0>})"
      ]
     },
     "execution_count": 18,
     "metadata": {},
     "output_type": "execute_result"
    }
   ],
   "source": [
    "model.metabolites.g3p_c.reactions"
   ]
  },
  {
   "cell_type": "markdown",
   "metadata": {},
   "source": [
    "### Reactions"
   ]
  },
  {
   "cell_type": "markdown",
   "metadata": {},
   "source": [
    "The model contains a list of reactions. Here are the first 10 of them."
   ]
  },
  {
   "cell_type": "code",
   "execution_count": 19,
   "metadata": {},
   "outputs": [
    {
     "data": {
      "text/plain": [
       "[<Reaction DM_4crsol_c at 0x7f608b684be0>,\n",
       " <Reaction DM_5drib_c at 0x7f608b684da0>,\n",
       " <Reaction DM_aacald_c at 0x7f608b684dd8>,\n",
       " <Reaction DM_amob_c at 0x7f608b684f98>,\n",
       " <Reaction DM_mththf_c at 0x7f608b684fd0>,\n",
       " <Reaction DM_oxam_c at 0x7f608b6891d0>,\n",
       " <Reaction BIOMASS_Ec_iJO1366_WT_53p95M at 0x7f608b689208>,\n",
       " <Reaction BIOMASS_Ec_iJO1366_core_53p95M at 0x7f608b6893c8>,\n",
       " <Reaction EX_12ppd__R_e at 0x7f608b6895f8>,\n",
       " <Reaction EX_12ppd__S_e at 0x7f608b689cf8>]"
      ]
     },
     "execution_count": 19,
     "metadata": {},
     "output_type": "execute_result"
    }
   ],
   "source": [
    "model.reactions[0:10]"
   ]
  },
  {
   "cell_type": "markdown",
   "metadata": {},
   "source": [
    "There are 2583 reactions in the model."
   ]
  },
  {
   "cell_type": "code",
   "execution_count": 20,
   "metadata": {},
   "outputs": [
    {
     "data": {
      "text/plain": [
       "2583"
      ]
     },
     "execution_count": 20,
     "metadata": {},
     "output_type": "execute_result"
    }
   ],
   "source": [
    "len(model.reactions)"
   ]
  },
  {
   "cell_type": "markdown",
   "metadata": {},
   "source": [
    "Let's take a closer look at the reactions associated with Glyceraldehyde 3-phosphate (`g3p`)."
   ]
  },
  {
   "cell_type": "code",
   "execution_count": 12,
   "metadata": {},
   "outputs": [
    {
     "name": "stdout",
     "output_type": "stream",
     "text": [
      "TRPS3: 3ig3p_c --> g3p_c + indole_c Tryptophan synthase (indoleglycerol phosphate)\n",
      "TPI: dhap_c <=> g3p_c Triose-phosphate isomerase\n",
      "GAPD: g3p_c + nad_c + pi_c <=> 13dpg_c + h_c + nadh_c Glyceraldehyde-3-phosphate dehydrogenase\n",
      "TALA: g3p_c + s7p_c <=> e4p_c + f6p_c Transaldolase\n",
      "EDA: 2ddg6p_c --> g3p_c + pyr_c 2-dehydro-3-deoxy-phosphogluconate aldolase\n",
      "TGBPA: tagdp__D_c <=> dhap_c + g3p_c Tagatose-bisphosphate aldolase\n",
      "TKT2: e4p_c + xu5p__D_c <=> f6p_c + g3p_c Transketolase\n",
      "DXPS: g3p_c + h_c + pyr_c --> co2_c + dxyl5p_c 1-deoxy-D-xylulose 5-phosphate synthase\n",
      "F6PA: f6p_c <=> dha_c + g3p_c Fructose 6-phosphate aldolase\n",
      "TRPS1: 3ig3p_c + ser__L_c --> g3p_c + h2o_c + trp__L_c Tryptophan synthase (indoleglycerol phosphate)\n",
      "TKT1: r5p_c + xu5p__D_c <=> g3p_c + s7p_c Transketolase\n",
      "DRPA: 2dr5p_c --> acald_c + g3p_c Deoxyribose-phosphate aldolase\n",
      "FBA: fdp_c <=> dhap_c + g3p_c Fructose-bisphosphate aldolase\n",
      "DDPGALA: 2dh3dgal6p_c <=> g3p_c + pyr_c 2-dehydro-3-deoxy-6-phosphogalactonate aldolase\n"
     ]
    }
   ],
   "source": [
    "for reaction in model.metabolites.g3p_c.reactions:\n",
    "    print(reaction, reaction.name)"
   ]
  },
  {
   "cell_type": "markdown",
   "metadata": {},
   "source": [
    "The second reaction in this list is Glyceraldehyde-3-phosphate dehydrogenase (GAPD)."
   ]
  },
  {
   "cell_type": "code",
   "execution_count": 22,
   "metadata": {},
   "outputs": [
    {
     "data": {
      "text/plain": [
       "'Glyceraldehyde-3-phosphate dehydrogenase'"
      ]
     },
     "execution_count": 22,
     "metadata": {},
     "output_type": "execute_result"
    }
   ],
   "source": [
    "model.reactions.GAPD.name"
   ]
  },
  {
   "cell_type": "markdown",
   "metadata": {},
   "source": [
    "A reaction has a flux expression, which in cobrapy is coded as the forward flux + the reverse flux (a convenient way to represent the mathematical problem)."
   ]
  },
  {
   "cell_type": "code",
   "execution_count": 23,
   "metadata": {},
   "outputs": [
    {
     "data": {
      "text/plain": [
       "1.0*GAPD - 1.0*GAPD_reverse_459c1"
      ]
     },
     "execution_count": 23,
     "metadata": {},
     "output_type": "execute_result"
    }
   ],
   "source": [
    "model.reactions.GAPD.flux_expression"
   ]
  },
  {
   "cell_type": "markdown",
   "metadata": {},
   "source": [
    "### Genes and gene-protein-reaction associations"
   ]
  },
  {
   "cell_type": "markdown",
   "metadata": {},
   "source": [
    "The model also contains genes (perhaps more appropriately gene products) and they belong to reactions."
   ]
  },
  {
   "cell_type": "code",
   "execution_count": 24,
   "metadata": {},
   "outputs": [
    {
     "data": {
      "text/plain": [
       "[<Gene b2215 at 0x7f608b7fe3c8>,\n",
       " <Gene b1377 at 0x7f608b7fe6a0>,\n",
       " <Gene b0241 at 0x7f608b7fe710>,\n",
       " <Gene b0929 at 0x7f608b7fe780>,\n",
       " <Gene b4035 at 0x7f608b7fe7f0>]"
      ]
     },
     "execution_count": 24,
     "metadata": {},
     "output_type": "execute_result"
    }
   ],
   "source": [
    "model.genes[0:5]"
   ]
  },
  {
   "cell_type": "code",
   "execution_count": 25,
   "metadata": {},
   "outputs": [
    {
     "data": {
      "text/plain": [
       "frozenset({<Reaction E4PD at 0x7f608b501748>,\n",
       "           <Reaction GAPD at 0x7f608b558ef0>})"
      ]
     },
     "execution_count": 25,
     "metadata": {},
     "output_type": "execute_result"
    }
   ],
   "source": [
    "model.genes.b1779.reactions"
   ]
  },
  {
   "cell_type": "markdown",
   "metadata": {},
   "source": [
    "The gapA (b1779) gene is the only one associated to reaction glyceraldehyde-3-phosphate dehydrogenase."
   ]
  },
  {
   "cell_type": "code",
   "execution_count": 26,
   "metadata": {},
   "outputs": [
    {
     "data": {
      "text/plain": [
       "'b1779'"
      ]
     },
     "execution_count": 26,
     "metadata": {},
     "output_type": "execute_result"
    }
   ],
   "source": [
    "model.reactions.GAPD.gene_reaction_rule"
   ]
  },
  {
   "cell_type": "markdown",
   "metadata": {},
   "source": [
    "Phosphofructokinase (PFK) on the other hand seems to be associated with to isozymes."
   ]
  },
  {
   "cell_type": "code",
   "execution_count": 27,
   "metadata": {},
   "outputs": [
    {
     "data": {
      "text/plain": [
       "'b3916 or b1723'"
      ]
     },
     "execution_count": 27,
     "metadata": {},
     "output_type": "execute_result"
    }
   ],
   "source": [
    "model.reactions.PFK.gene_reaction_rule"
   ]
  },
  {
   "cell_type": "markdown",
   "metadata": {},
   "source": [
    "One can display the gene names (typical 4 letter gene codes) instead of the identifiers (Blattner numbers in this case)."
   ]
  },
  {
   "cell_type": "code",
   "execution_count": null,
   "metadata": {},
   "outputs": [
    {
     "data": {
      "text/plain": [
       "'pfkA or pfkB'"
      ]
     },
     "execution_count": 28,
     "metadata": {},
     "output_type": "execute_result"
    }
   ],
   "source": [
    "model.reactions.PFK.gene_name_reaction_rule\n"
   ]
  },
  {
   "cell_type": "markdown",
   "metadata": {},
   "source": [
    "Reactions are functional if all genes are functional"
   ]
  },
  {
   "cell_type": "code",
   "execution_count": 13,
   "metadata": {},
   "outputs": [
    {
     "data": {
      "text/html": [
       "\n",
       "        <table>\n",
       "            <tr>\n",
       "                <td><strong>Reaction identifier</strong></td><td>PFK</td>\n",
       "            </tr><tr>\n",
       "                <td><strong>Name</strong></td><td>Phosphofructokinase</td>\n",
       "            </tr><tr>\n",
       "                <td><strong>Memory address</strong></td>\n",
       "                <td>0x1980e2dbd90</td>\n",
       "            </tr><tr>\n",
       "                <td><strong>Stoichiometry</strong></td>\n",
       "                <td>\n",
       "                    <p style='text-align:right'>atp_c + f6p_c --> adp_c + fdp_c + h_c</p>\n",
       "                    <p style='text-align:right'>ATP + D-Fructose 6-phosphate --> ADP + D-Fructose 1,6-bisphosphate + H+</p>\n",
       "                </td>\n",
       "            </tr><tr>\n",
       "                <td><strong>GPR</strong></td><td>b3916 or b1723</td>\n",
       "            </tr><tr>\n",
       "                <td><strong>Lower bound</strong></td><td>0.0</td>\n",
       "            </tr><tr>\n",
       "                <td><strong>Upper bound</strong></td><td>1000.0</td>\n",
       "            </tr>\n",
       "        </table>\n",
       "        "
      ],
      "text/plain": [
       "<Reaction PFK at 0x1980e2dbd90>"
      ]
     },
     "execution_count": 13,
     "metadata": {},
     "output_type": "execute_result"
    }
   ],
   "source": [
    "model.reactions.PFK"
   ]
  },
  {
   "cell_type": "code",
   "execution_count": null,
   "metadata": {},
   "outputs": [
    {
     "name": "stdout",
     "output_type": "stream",
     "text": [
      "True True True\n"
     ]
    }
   ],
   "source": [
    "print(model.genes.b3916.functional, model.genes.b1723.functional, model.reactions.PFK.functional)\n",
    "# model.genes.b3916.functional tells you if that gene is functional here\n",
    "# model.reactions.PFK.functional tells you if a rxn is occuring"
   ]
  },
  {
   "cell_type": "markdown",
   "metadata": {},
   "source": [
    "If we knock out one of the isozymes, the PFK reaction stays functional, but not if we knock both."
   ]
  },
  {
   "cell_type": "code",
   "execution_count": 31,
   "metadata": {},
   "outputs": [
    {
     "name": "stdout",
     "output_type": "stream",
     "text": [
      "True\n",
      "False\n"
     ]
    }
   ],
   "source": [
    "model_copy = model.copy()\n",
    "model_copy.genes.b3916.knock_out()\n",
    "print(model_copy.reactions.PFK.functional)\n",
    "\n",
    "model_copy = model.copy()\n",
    "model_copy.genes.b3916.knock_out()\n",
    "model_copy.genes.b1723.knock_out()\n",
    "print(model_copy.reactions.PFK.functional)"
   ]
  },
  {
   "cell_type": "markdown",
   "metadata": {},
   "source": [
    "### Objective"
   ]
  },
  {
   "cell_type": "markdown",
   "metadata": {},
   "source": [
    "In the iJO1366 model, the default objective is to maximize the flux through the biomass reaction (i.e. growth). "
   ]
  },
  {
   "cell_type": "code",
   "execution_count": 32,
   "metadata": {},
   "outputs": [
    {
     "name": "stdout",
     "output_type": "stream",
     "text": [
      "Maximize\n",
      "-1.0*BIOMASS_Ec_iJO1366_core_53p95M_reverse_5c8b1 + 1.0*BIOMASS_Ec_iJO1366_core_53p95M\n"
     ]
    }
   ],
   "source": [
    "print(model.objective)"
   ]
  },
  {
   "cell_type": "markdown",
   "metadata": {},
   "source": [
    "### Querying"
   ]
  },
  {
   "cell_type": "markdown",
   "metadata": {
    "collapsed": true
   },
   "source": [
    "One can use `.query('search term', 'attribute_to_search_in')` to search in model metabolites, reactions, and genes. For example, one can search metabolites that contain the term _glucose_ in their name."
   ]
  },
  {
   "cell_type": "code",
   "execution_count": 33,
   "metadata": {},
   "outputs": [
    {
     "name": "stdout",
     "output_type": "stream",
     "text": [
      "6-Acetyl-D-glucose\n",
      "ADPglucose\n",
      "DTDP-4-dehydro-6-deoxy-D-glucose\n",
      "DTDPglucose\n",
      "UDPglucose\n",
      "UDPglucose\n",
      "UDPglucose\n"
     ]
    }
   ],
   "source": [
    "for metabolite in model.metabolites.query('glucose', 'name'):\n",
    "    print(metabolite.name)"
   ]
  },
  {
   "cell_type": "markdown",
   "metadata": {},
   "source": [
    "### Exercises"
   ]
  },
  {
   "cell_type": "code",
   "execution_count": 21,
   "metadata": {},
   "outputs": [
    {
     "data": {
      "text/plain": [
       "frozenset({<Reaction 14GLUCANabcpp at 0x1980e217820>,\n",
       "           <Reaction 2AGPEAT120 at 0x1980e268b50>,\n",
       "           <Reaction 2AGPEAT140 at 0x1980e268dc0>,\n",
       "           <Reaction 2AGPEAT141 at 0x1980e269030>,\n",
       "           <Reaction 2AGPEAT160 at 0x1980e2694e0>,\n",
       "           <Reaction 2AGPEAT161 at 0x1980e269990>,\n",
       "           <Reaction 2AGPEAT180 at 0x1980e269e40>,\n",
       "           <Reaction 2AGPEAT181 at 0x1980e26a2f0>,\n",
       "           <Reaction 2AGPGAT120 at 0x1980e26bd30>,\n",
       "           <Reaction 2AGPGAT140 at 0x1980e26bfa0>,\n",
       "           <Reaction 2AGPGAT141 at 0x1980e26a710>,\n",
       "           <Reaction 2AGPGAT160 at 0x1980e26abc0>,\n",
       "           <Reaction 2AGPGAT161 at 0x1980e294bb0>,\n",
       "           <Reaction 2AGPGAT180 at 0x1980e295060>,\n",
       "           <Reaction 2AGPGAT181 at 0x1980e295510>,\n",
       "           <Reaction 3KGK at 0x1980e2bb970>,\n",
       "           <Reaction 3PEPTabcpp at 0x1980e0dc2b0>,\n",
       "           <Reaction 4PEPTabcpp at 0x1980e18bb50>,\n",
       "           <Reaction AACPS1 at 0x1980e15e0e0>,\n",
       "           <Reaction AACPS2 at 0x1980e216dd0>,\n",
       "           <Reaction AACPS3 at 0x1980e217a30>,\n",
       "           <Reaction AACPS4 at 0x1980e216c20>,\n",
       "           <Reaction AACPS5 at 0x1980e23d720>,\n",
       "           <Reaction AACPS6 at 0x1980e23e2c0>,\n",
       "           <Reaction AACPS7 at 0x1980e23eb30>,\n",
       "           <Reaction AACPS8 at 0x1980e23fbe0>,\n",
       "           <Reaction AACPS9 at 0x1980e23faf0>,\n",
       "           <Reaction ACCOAC at 0x1980e2d9cf0>,\n",
       "           <Reaction ACCOAL at 0x1980e2d81f0>,\n",
       "           <Reaction ACGAMK at 0x1980e2db610>,\n",
       "           <Reaction ACGK at 0x1980f37cfd0>,\n",
       "           <Reaction ACKr at 0x1980f37c9d0>,\n",
       "           <Reaction ACOLIPAabctex at 0x1980f3a72e0>,\n",
       "           <Reaction ACS at 0x1980f3c7250>,\n",
       "           <Reaction ADK1 at 0x1980f3ee4a0>,\n",
       "           <Reaction ADNCYC at 0x1980f3ef220>,\n",
       "           <Reaction ADNK1 at 0x1980f3ef5b0>,\n",
       "           <Reaction ADOCBIK at 0x1980f3efbb0>,\n",
       "           <Reaction ADOCBLabcpp at 0x1980f4089a0>,\n",
       "           <Reaction ADSK at 0x1980f409c30>,\n",
       "           <Reaction AIRC2 at 0x1980f4592d0>,\n",
       "           <Reaction ALAALAabcpp at 0x1980f45b460>,\n",
       "           <Reaction ALAALAr at 0x1980f45b2b0>,\n",
       "           <Reaction ALATRS at 0x1980f47cca0>,\n",
       "           <Reaction ALAabcpp at 0x1980f47cf40>,\n",
       "           <Reaction ALLK at 0x1980f431960>,\n",
       "           <Reaction ALLabcpp at 0x1980f47f670>,\n",
       "           <Reaction AMANK at 0x1980f4c57e0>,\n",
       "           <Reaction ANHMK at 0x1980f4c6b30>,\n",
       "           <Reaction AP4AS at 0x1980f4c79a0>,\n",
       "           <Reaction AP5AH at 0x1980f4c7b50>,\n",
       "           <Reaction ARBTNabcpp at 0x1980f47ea40>,\n",
       "           <Reaction ARBabcpp at 0x1980f5070a0>,\n",
       "           <Reaction ARGSS at 0x1980f550730>,\n",
       "           <Reaction ARGTRS at 0x1980f5508b0>,\n",
       "           <Reaction ARGabcpp at 0x1980f550af0>,\n",
       "           <Reaction ASNS1 at 0x1980f552650>,\n",
       "           <Reaction ASNS2 at 0x1980f5522f0>,\n",
       "           <Reaction ASNTRS at 0x1980f552a10>,\n",
       "           <Reaction ASNabcpp at 0x1980f552c50>,\n",
       "           <Reaction ASO3t8pp at 0x1980f553130>,\n",
       "           <Reaction ASPK at 0x1980f553880>,\n",
       "           <Reaction ASPTRS at 0x1980f590bb0>,\n",
       "           <Reaction ASPabcpp at 0x1980f590d60>,\n",
       "           <Reaction ATPHs at 0x1980f591b70>,\n",
       "           <Reaction ATPM at 0x1980f592440>,\n",
       "           <Reaction ATPPRT at 0x1980f506d40>,\n",
       "           <Reaction ATPS4rpp at 0x1980f5921a0>,\n",
       "           <Reaction BIOMASS_Ec_iJO1366_WT_53p95M at 0x1980e0dc520>,\n",
       "           <Reaction BIOMASS_Ec_iJO1366_core_53p95M at 0x1980e0dc7c0>,\n",
       "           <Reaction BUTSO3abcpp at 0x1980f5d4af0>,\n",
       "           <Reaction CBIAT at 0x1980f5d71c0>,\n",
       "           <Reaction CBIuabcpp at 0x1980f5d7610>,\n",
       "           <Reaction CBL1abcpp at 0x1980f5d7820>,\n",
       "           <Reaction CBLAT at 0x1980f5d62c0>,\n",
       "           <Reaction CBMKr at 0x1980f5d75b0>,\n",
       "           <Reaction CBPS at 0x1980f61c760>,\n",
       "           <Reaction CCGS at 0x1980f61ca90>,\n",
       "           <Reaction CD2abcpp at 0x1980f61cf10>,\n",
       "           <Reaction CDPMEK at 0x1980f5d75e0>,\n",
       "           <Reaction CGLYabcpp at 0x1980f61f220>,\n",
       "           <Reaction CHLabcpp at 0x1980f61f850>,\n",
       "           <Reaction CLIPAabctex at 0x1980f665ae0>,\n",
       "           <Reaction COBALT2abcpp at 0x1980f69d0f0>,\n",
       "           <Reaction COLIPAPabctex at 0x1980f69ded0>,\n",
       "           <Reaction COLIPAabcpp at 0x1980f69d930>,\n",
       "           <Reaction COLIPAabctex at 0x1980f69e440>,\n",
       "           <Reaction CPGNabcpp at 0x1980f69f070>,\n",
       "           <Reaction CRNCAL2 at 0x1980f69f3a0>,\n",
       "           <Reaction CRNDCAL2 at 0x1980f6e0ac0>,\n",
       "           <Reaction CRNDabcpp at 0x1980f6e0c40>,\n",
       "           <Reaction CRNabcpp at 0x1980f6e0ee0>,\n",
       "           <Reaction CTBTCAL2 at 0x1980f6e27d0>,\n",
       "           <Reaction CTBTabcpp at 0x1980f6e2980>,\n",
       "           <Reaction CTPS2 at 0x1980f6e34c0>,\n",
       "           <Reaction CU1abcpp at 0x1980f6e38b0>,\n",
       "           <Reaction CU2abcpp at 0x1980f6e3a90>,\n",
       "           <Reaction CYSDabcpp at 0x1980f72d510>,\n",
       "           <Reaction CYSTRS at 0x1980f72d780>,\n",
       "           <Reaction CYSabc2pp at 0x1980f72e7a0>,\n",
       "           <Reaction CYSabcpp at 0x1980f72e650>,\n",
       "           <Reaction CYTK1 at 0x1980f760490>,\n",
       "           <Reaction CYTK2 at 0x1980f760d90>,\n",
       "           <Reaction DADK at 0x1980f761450>,\n",
       "           <Reaction DAGK120 at 0x1980f761f60>,\n",
       "           <Reaction DAGK140 at 0x1980f761e10>,\n",
       "           <Reaction DAGK141 at 0x1980f762350>,\n",
       "           <Reaction DAGK160 at 0x1980f762530>,\n",
       "           <Reaction DAGK161 at 0x1980f762710>,\n",
       "           <Reaction DAGK180 at 0x1980f7628f0>,\n",
       "           <Reaction DAGK181 at 0x1980f762ad0>,\n",
       "           <Reaction DAPabcpp at 0x1980f7639a0>,\n",
       "           <Reaction DBTS at 0x1980f7a8ee0>,\n",
       "           <Reaction DDGALK at 0x1980f7a9f00>,\n",
       "           <Reaction DDGLK at 0x1980f7aa740>,\n",
       "           <Reaction DGK1 at 0x1980f7aaec0>,\n",
       "           <Reaction DHBS at 0x1980f7abf70>,\n",
       "           <Reaction DHFS at 0x1980f7f1300>,\n",
       "           <Reaction DPCOAK at 0x1980f836c80>,\n",
       "           <Reaction DTMPK at 0x1980f874b20>,\n",
       "           <Reaction DURIK1 at 0x1980f875480>,\n",
       "           <Reaction DXYLK at 0x1980f875b10>,\n",
       "           <Reaction ECA4COLIPAabctex at 0x1980f8b17b0>,\n",
       "           <Reaction ENLIPAabctex at 0x1980f8fc6d0>,\n",
       "           <Reaction ETHSO3abcpp at 0x1980f7f2770>,\n",
       "           <Reaction FACOAL100t2pp at 0x1980f940e80>,\n",
       "           <Reaction FACOAL120t2pp at 0x1980f941060>,\n",
       "           <Reaction FACOAL140t2pp at 0x1980f941300>,\n",
       "           <Reaction FACOAL141t2pp at 0x1980f941750>,\n",
       "           <Reaction FACOAL160t2pp at 0x1980f941ab0>,\n",
       "           <Reaction FACOAL161t2pp at 0x1980f941e10>,\n",
       "           <Reaction FACOAL180t2pp at 0x1980f942170>,\n",
       "           <Reaction FACOAL181t2pp at 0x1980f9424d0>,\n",
       "           <Reaction FACOAL60t2pp at 0x1980f942830>,\n",
       "           <Reaction FACOAL80t2pp at 0x1980f942b90>,\n",
       "           <Reaction FCLK at 0x1980f943fd0>,\n",
       "           <Reaction FE2abcpp at 0x1980f98a260>,\n",
       "           <Reaction FE3DCITabcpp at 0x1980f98ac20>,\n",
       "           <Reaction FE3DHBZSabcpp at 0x1980f8fda80>,\n",
       "           <Reaction FE3HOXabcpp at 0x1980f98bb20>,\n",
       "           <Reaction FE3abcpp at 0x1980f9ccfd0>,\n",
       "           <Reaction FECRMabcpp at 0x1980f9cdd80>,\n",
       "           <Reaction FEENTERabcpp at 0x1980f9ceb60>,\n",
       "           <Reaction FEOXAMabcpp at 0x1980f9ce1a0>,\n",
       "           <Reaction FMNAT at 0x1980fa14fd0>,\n",
       "           <Reaction FRUK at 0x1980fa17fd0>,\n",
       "           <Reaction FRULYSK at 0x1980fa4c7f0>,\n",
       "           <Reaction FTHFLi at 0x1980fa4dd80>,\n",
       "           <Reaction G3PCabcpp at 0x1980fa95780>,\n",
       "           <Reaction G3PEabcpp at 0x1980fa96680>,\n",
       "           <Reaction G3PGabcpp at 0x1980fa97010>,\n",
       "           <Reaction G3PIabcpp at 0x1980fa97580>,\n",
       "           <Reaction G3PSabcpp at 0x1980fa97c70>,\n",
       "           <Reaction GALKr at 0x1980facb130>,\n",
       "           <Reaction GALabcpp at 0x1980facbdc0>,\n",
       "           <Reaction GART at 0x1980fb09b40>,\n",
       "           <Reaction GDPDPK at 0x1980fb0a5f0>,\n",
       "           <Reaction GGPTRCS at 0x1980fb0bc70>,\n",
       "           <Reaction GK1 at 0x1980fb0bcd0>,\n",
       "           <Reaction GLCabcpp at 0x1980fb46ec0>,\n",
       "           <Reaction GLGC at 0x1980fb47850>,\n",
       "           <Reaction GLNS at 0x1980fb474c0>,\n",
       "           <Reaction GLNTRS at 0x1980fb47ca0>,\n",
       "           <Reaction GLNabcpp at 0x1980fb7c820>,\n",
       "           <Reaction GLU5K at 0x1980fb7d0f0>,\n",
       "           <Reaction GLUCYS at 0x1980fb7d510>,\n",
       "           <Reaction GLUTRS at 0x1980fb7e830>,\n",
       "           <Reaction GLUabcpp at 0x1980fb7e680>,\n",
       "           <Reaction GLYBabcpp at 0x1980fb7fa60>,\n",
       "           <Reaction GLYC2Pabcpp at 0x1980fbcc670>,\n",
       "           <Reaction GLYC3Pabcpp at 0x1980fbccaf0>,\n",
       "           <Reaction GLYCK2 at 0x1980fbcda50>,\n",
       "           <Reaction GLYCK at 0x1980fbcd7e0>,\n",
       "           <Reaction GLYK at 0x1980fbcfd60>,\n",
       "           <Reaction GLYTRS at 0x1980fb47a30>,\n",
       "           <Reaction GMHEPAT at 0x1980fc01270>,\n",
       "           <Reaction GMHEPK at 0x1980fc00d90>,\n",
       "           <Reaction GMPS2 at 0x1980fc01ab0>,\n",
       "           <Reaction GNK at 0x1980fc02110>,\n",
       "           <Reaction GSNK at 0x1980fc03f10>,\n",
       "           <Reaction GSPMDS at 0x1980fc507f0>,\n",
       "           <Reaction GTHRDabc2pp at 0x1980fc513c0>,\n",
       "           <Reaction GTHRDabcpp at 0x1980fc51570>,\n",
       "           <Reaction GTHS at 0x1980fc51750>,\n",
       "           <Reaction GTPDPK at 0x1980fc525c0>,\n",
       "           <Reaction HEPK1 at 0x1980fc9b760>,\n",
       "           <Reaction HEPK2 at 0x1980fc9b940>,\n",
       "           <Reaction HETZK at 0x1980fc9bfd0>,\n",
       "           <Reaction HEX1 at 0x1980fc9be20>,\n",
       "           <Reaction HEX4 at 0x1980fcd06a0>,\n",
       "           <Reaction HEX7 at 0x1980fc53df0>,\n",
       "           <Reaction HG2abcpp at 0x1980fc53c70>,\n",
       "           <Reaction HISTRS at 0x1980fcd0be0>,\n",
       "           <Reaction HISabcpp at 0x1980fcd1840>,\n",
       "           <Reaction HMPK1 at 0x1980fcd26b0>,\n",
       "           <Reaction HPPK2 at 0x1980fcd2b00>,\n",
       "           <Reaction HSK at 0x1980fcd3ee0>,\n",
       "           <Reaction ILETRS at 0x1980fd4dc00>,\n",
       "           <Reaction ILEabcpp at 0x1980fd4ddb0>,\n",
       "           <Reaction INSK at 0x1980fd4f1c0>,\n",
       "           <Reaction ISETACabcpp at 0x1980fd98e80>,\n",
       "           <Reaction K2L4Aabcpp at 0x1980fd99690>,\n",
       "           <Reaction K2L4Aabctex at 0x1980fd996f0>,\n",
       "           <Reaction Kabcpp at 0x1980fd9add0>,\n",
       "           <Reaction LEUTRS at 0x1980fddf370>,\n",
       "           <Reaction LEUabcpp at 0x1980fddfbe0>,\n",
       "           <Reaction LIPACabcpp at 0x1980fddfe50>,\n",
       "           <Reaction LIPATPT at 0x1980fe151b0>,\n",
       "           <Reaction LIPAabcpp at 0x1980fe15330>,\n",
       "           <Reaction LIPAabctex at 0x1980fe154e0>,\n",
       "           <Reaction LYSTRS at 0x1980feb0f10>,\n",
       "           <Reaction LYSabcpp at 0x1980feb10f0>,\n",
       "           <Reaction MALTHXabcpp at 0x1980feb3490>,\n",
       "           <Reaction MALTPTabcpp at 0x1980feb3820>,\n",
       "           <Reaction MALTTRabcpp at 0x1980feb3d60>,\n",
       "           <Reaction MALTTTRabcpp at 0x1980feb3e20>,\n",
       "           <Reaction MALTabcpp at 0x1980feb3d00>,\n",
       "           <Reaction METAT at 0x1980ff2f790>,\n",
       "           <Reaction METDabcpp at 0x1980ff2feb0>,\n",
       "           <Reaction METSOX1abcpp at 0x1980ff70af0>,\n",
       "           <Reaction METSOX2abcpp at 0x1980ff2fdf0>,\n",
       "           <Reaction METTRS at 0x1980ff71c90>,\n",
       "           <Reaction METabcpp at 0x1980ff70f70>,\n",
       "           <Reaction MG2uabcpp at 0x1980ff71660>,\n",
       "           <Reaction MOBDabcpp at 0x1980ffae800>,\n",
       "           <Reaction MPTAT at 0x1980ffaf370>,\n",
       "           <Reaction MPTSS at 0x1980ffea800>,\n",
       "           <Reaction MSO3abcpp at 0x1980ffea5c0>,\n",
       "           <Reaction NADK at 0x198100291e0>,\n",
       "           <Reaction NADS1 at 0x1981002b550>,\n",
       "           <Reaction NAMNPP at 0x1981002b820>,\n",
       "           <Reaction NDPK1 at 0x19810068460>,\n",
       "           <Reaction NDPK2 at 0x19810068040>,\n",
       "           <Reaction NDPK3 at 0x19810068b50>,\n",
       "           <Reaction NDPK4 at 0x19810068d90>,\n",
       "           <Reaction NDPK5 at 0x19810069030>,\n",
       "           <Reaction NDPK6 at 0x198100692d0>,\n",
       "           <Reaction NDPK7 at 0x19810069570>,\n",
       "           <Reaction NDPK8 at 0x19810069810>,\n",
       "           <Reaction NI2abcpp at 0x1981006a2f0>,\n",
       "           <Reaction NI2uabcpp at 0x1981006a680>,\n",
       "           <Reaction NMNAT at 0x1981006a9b0>,\n",
       "           <Reaction NNATr at 0x1981006bdf0>,\n",
       "           <Reaction NTP1 at 0x198100e6770>,\n",
       "           <Reaction NTPP6 at 0x1981012cf70>,\n",
       "           <Reaction O16A4COLIPAabctex at 0x1981012e110>,\n",
       "           <Reaction OCTNLL at 0x198101694e0>,\n",
       "           <Reaction OMMBLHX3 at 0x1981016a680>,\n",
       "           <Reaction OMPHHX3 at 0x1981006bcd0>,\n",
       "           <Reaction OPHHX3 at 0x1981016b310>,\n",
       "           <Reaction ORNabcpp at 0x1981016bd00>,\n",
       "           <Reaction PA120abcpp at 0x198101a9210>,\n",
       "           <Reaction PA140abcpp at 0x198101a98d0>,\n",
       "           <Reaction PA141abcpp at 0x198101a9b10>,\n",
       "           <Reaction PA160abcpp at 0x198101a9d50>,\n",
       "           <Reaction PA161abcpp at 0x198101a9f90>,\n",
       "           <Reaction PA180abcpp at 0x198101aa1d0>,\n",
       "           <Reaction PA181abcpp at 0x198101aa410>,\n",
       "           <Reaction PACCOAL at 0x1980e0dcca0>,\n",
       "           <Reaction PANTS at 0x1980e0dec20>,\n",
       "           <Reaction PE120abcpp at 0x1980e26a050>,\n",
       "           <Reaction PE140abcpp at 0x1980e2682b0>,\n",
       "           <Reaction PE141abcpp at 0x1980e26aa40>,\n",
       "           <Reaction PE160abcpp at 0x1980e268b80>,\n",
       "           <Reaction PE161abcpp at 0x1980e295b10>,\n",
       "           <Reaction PE180abcpp at 0x1980e2979d0>,\n",
       "           <Reaction PE181abcpp at 0x1980e2bae30>,\n",
       "           <Reaction PFK at 0x1980e2dbd90>,\n",
       "           <Reaction PFK_2 at 0x1980e2db100>,\n",
       "           <Reaction PFK_3 at 0x1980f37d720>,\n",
       "           <Reaction PG120abcpp at 0x1980f37c850>,\n",
       "           <Reaction PG140abcpp at 0x1980f37e710>,\n",
       "           <Reaction PG141abcpp at 0x1980f37f730>,\n",
       "           <Reaction PG160abcpp at 0x1980f37fe80>,\n",
       "           <Reaction PG161abcpp at 0x1980f37e140>,\n",
       "           <Reaction PG180abcpp at 0x1980f37f880>,\n",
       "           <Reaction PG181abcpp at 0x1980f3a5ea0>,\n",
       "           <Reaction PGK at 0x1980f3c5570>,\n",
       "           <Reaction PGP120abcpp at 0x1980f3ec730>,\n",
       "           <Reaction PGP140abcpp at 0x1981016a890>,\n",
       "           <Reaction PGP141abcpp at 0x1980f3ec520>,\n",
       "           <Reaction PGP160abcpp at 0x1980f3ed7b0>,\n",
       "           <Reaction PGP161abcpp at 0x1980f3eed40>,\n",
       "           <Reaction PGP180abcpp at 0x1980f3ef610>,\n",
       "           <Reaction PGP181abcpp at 0x1980f3ec2b0>,\n",
       "           <Reaction PHEMEabcpp at 0x198101a86a0>,\n",
       "           <Reaction PHETRS at 0x1980e2d9de0>,\n",
       "           <Reaction PIuabcpp at 0x198102c1f00>,\n",
       "           <Reaction PMPK at 0x198101ab430>,\n",
       "           <Reaction PNTK at 0x198101ab010>,\n",
       "           <Reaction PPAKr at 0x19810333c10>,\n",
       "           <Reaction PPCK at 0x19810359e10>,\n",
       "           <Reaction PPK2r at 0x1981035aa70>,\n",
       "           <Reaction PPKr at 0x1981035ae00>,\n",
       "           <Reaction PPS at 0x19810381300>,\n",
       "           <Reaction PRAGSr at 0x198103821d0>,\n",
       "           <Reaction PRAIS at 0x19810382ad0>,\n",
       "           <Reaction PRASCSi at 0x198103831c0>,\n",
       "           <Reaction PRFGS at 0x19810383580>,\n",
       "           <Reaction PROGLYabcpp at 0x19810383b50>,\n",
       "           <Reaction PROTRS at 0x198103b01c0>,\n",
       "           <Reaction PROabcpp at 0x19810383cd0>,\n",
       "           <Reaction PRPPS at 0x198103b0dc0>,\n",
       "           <Reaction PTPATi at 0x198103b3d90>,\n",
       "           <Reaction PTRCabcpp at 0x198103b3ee0>,\n",
       "           <Reaction PYDAMK at 0x198103f5cf0>,\n",
       "           <Reaction PYDXK at 0x19810383d90>,\n",
       "           <Reaction PYDXNK at 0x1981035b9d0>,\n",
       "           <Reaction PYK at 0x19810358ca0>,\n",
       "           <Reaction R15BPK at 0x198103f7c40>,\n",
       "           <Reaction R1PK at 0x19810439240>,\n",
       "           <Reaction RBFK at 0x198104398d0>,\n",
       "           <Reaction RBK at 0x19810439f90>,\n",
       "           <Reaction RBK_L1 at 0x1981043a110>,\n",
       "           <Reaction RIBabcpp at 0x1981043ada0>,\n",
       "           <Reaction RMK at 0x1981043ba90>,\n",
       "           <Reaction RNTR1c2 at 0x19810471f30>,\n",
       "           <Reaction S2FE2SR at 0x19810473880>,\n",
       "           <Reaction S2FE2SS2 at 0x198104a2440>,\n",
       "           <Reaction S2FE2SS at 0x198104739a0>,\n",
       "           <Reaction SADT2 at 0x198104a21d0>,\n",
       "           <Reaction SELNPS at 0x1981043b490>,\n",
       "           <Reaction SERASr at 0x198104d6260>,\n",
       "           <Reaction SERTRS2 at 0x198104d6cb0>,\n",
       "           <Reaction SERTRS at 0x198104d6ad0>,\n",
       "           <Reaction SHKK at 0x19810520550>,\n",
       "           <Reaction SPMDabcpp at 0x19810522770>,\n",
       "           <Reaction SUCBZL at 0x19810523fd0>,\n",
       "           <Reaction SUCOAS at 0x1981055d450>,\n",
       "           <Reaction SULFACabcpp at 0x1981055cdf0>,\n",
       "           <Reaction SULabcpp at 0x1981055eaa0>,\n",
       "           <Reaction TAURabcpp at 0x19810590190>,\n",
       "           <Reaction TDSK at 0x19810591c60>,\n",
       "           <Reaction THMabcpp at 0x19810593250>,\n",
       "           <Reaction THRTRS at 0x198105c88e0>,\n",
       "           <Reaction THRabcpp at 0x198105c8c40>,\n",
       "           <Reaction THZPSN3 at 0x1981055cac0>,\n",
       "           <Reaction TMDK1 at 0x19810610790>,\n",
       "           <Reaction TMK at 0x19810610cd0>,\n",
       "           <Reaction TMPK at 0x19810610e80>,\n",
       "           <Reaction TPRDCOAS at 0x198106113f0>,\n",
       "           <Reaction TRPTRS at 0x19810613190>,\n",
       "           <Reaction TSULabcpp at 0x19810613b20>,\n",
       "           <Reaction TUNGSabcpp at 0x19810644ca0>,\n",
       "           <Reaction TYRTRS at 0x19810646470>,\n",
       "           <Reaction UAAGDS at 0x198105cbdf0>,\n",
       "           <Reaction UAMAGS at 0x198106845e0>,\n",
       "           <Reaction UAMAS at 0x198106848e0>,\n",
       "           <Reaction UGMDDS at 0x198106873d0>,\n",
       "           <Reaction UM3PL at 0x19810687bb0>,\n",
       "           <Reaction UM4PL at 0x19810685750>,\n",
       "           <Reaction UMPK at 0x19810687fa0>,\n",
       "           <Reaction VALTRS at 0x198106cb190>,\n",
       "           <Reaction VALabcpp at 0x198106cb340>,\n",
       "           <Reaction XYLK2 at 0x1981070cf70>,\n",
       "           <Reaction XYLK at 0x1981070d210>,\n",
       "           <Reaction XYLabcpp at 0x1981070e530>,\n",
       "           <Reaction ZN2abcpp at 0x1981070e7a0>,\n",
       "           <Reaction ZNabcpp at 0x1981070f550>})"
      ]
     },
     "execution_count": 21,
     "metadata": {},
     "output_type": "execute_result"
    }
   ],
   "source": [
    "# which reactions includes cytosolic atp?\n",
    "model.metabolites.atp_c\n",
    "model.metabolites.atp_c.reactions"
   ]
  },
  {
   "cell_type": "markdown",
   "metadata": {},
   "source": [
    "Convert the cells below to code and fill in the blanks"
   ]
  },
  {
   "cell_type": "code",
   "execution_count": 25,
   "metadata": {},
   "outputs": [
    {
     "data": {
      "text/plain": [
       "[<Metabolite 5mta_c at 0x19801bf3970>,\n",
       " <Metabolite dad_2_c at 0x19801c66140>,\n",
       " <Metabolite dad_5_c at 0x19801c66110>,\n",
       " <Metabolite dad_2_e at 0x19801e66b00>,\n",
       " <Metabolite dad_2_p at 0x1980dd07310>]"
      ]
     },
     "execution_count": 25,
     "metadata": {},
     "output_type": "execute_result"
    }
   ],
   "source": [
    "# which metabolite is named adenosine\n",
    "model.metabolites.query('adenosine', 'name')\n",
    "# for metabolite in model.metabolites.query('glucose', 'name'):\n",
    "#     print(metabolite.name)"
   ]
  },
  {
   "cell_type": "code",
   "execution_count": null,
   "metadata": {},
   "outputs": [
    {
     "data": {
      "text/plain": [
       "'pfkA or pfkB'"
      ]
     },
     "execution_count": 31,
     "metadata": {},
     "output_type": "execute_result"
    }
   ],
   "source": [
    "# which genes are necessary for PFK reaction?\n",
    "# Blattner 4-digit codes\n",
    "model.reactions.PFK.gene_name_reaction_rule"
   ]
  },
  {
   "cell_type": "code",
   "execution_count": null,
   "metadata": {},
   "outputs": [
    {
     "data": {
      "text/plain": [
       "'b3916 or b1723'"
      ]
     },
     "execution_count": 30,
     "metadata": {},
     "output_type": "execute_result"
    }
   ],
   "source": [
    "# Genes Names\n",
    "odel.reactions.PFK.gene_reaction_rule"
   ]
  },
  {
   "cell_type": "markdown",
   "metadata": {},
   "source": [
    "## Simulating models with regular flux balance analysis (FBA) (5 + 5)"
   ]
  },
  {
   "cell_type": "code",
   "execution_count": 34,
   "metadata": {},
   "outputs": [
    {
     "data": {
      "text/html": [
       "<strong><em>Optimal</em> solution with objective value 0.982</strong><br><div>\n",
       "<style>\n",
       "    .dataframe thead tr:only-child th {\n",
       "        text-align: right;\n",
       "    }\n",
       "\n",
       "    .dataframe thead th {\n",
       "        text-align: left;\n",
       "    }\n",
       "\n",
       "    .dataframe tbody tr th {\n",
       "        vertical-align: top;\n",
       "    }\n",
       "</style>\n",
       "<table border=\"1\" class=\"dataframe\">\n",
       "  <thead>\n",
       "    <tr style=\"text-align: right;\">\n",
       "      <th></th>\n",
       "      <th>fluxes</th>\n",
       "      <th>reduced_costs</th>\n",
       "    </tr>\n",
       "  </thead>\n",
       "  <tbody>\n",
       "    <tr>\n",
       "      <th>DM_4crsol_c</th>\n",
       "      <td>2.1907e-04</td>\n",
       "      <td>0.0000</td>\n",
       "    </tr>\n",
       "    <tr>\n",
       "      <th>DM_5drib_c</th>\n",
       "      <td>2.2103e-04</td>\n",
       "      <td>0.0000</td>\n",
       "    </tr>\n",
       "    <tr>\n",
       "      <th>DM_aacald_c</th>\n",
       "      <td>0.0000e+00</td>\n",
       "      <td>0.0000</td>\n",
       "    </tr>\n",
       "    <tr>\n",
       "      <th>DM_amob_c</th>\n",
       "      <td>1.9647e-06</td>\n",
       "      <td>0.0000</td>\n",
       "    </tr>\n",
       "    <tr>\n",
       "      <th>DM_mththf_c</th>\n",
       "      <td>4.4010e-04</td>\n",
       "      <td>0.0000</td>\n",
       "    </tr>\n",
       "    <tr>\n",
       "      <th>...</th>\n",
       "      <td>...</td>\n",
       "      <td>...</td>\n",
       "    </tr>\n",
       "    <tr>\n",
       "      <th>ZN2abcpp</th>\n",
       "      <td>0.0000e+00</td>\n",
       "      <td>-0.0083</td>\n",
       "    </tr>\n",
       "    <tr>\n",
       "      <th>ZN2t3pp</th>\n",
       "      <td>0.0000e+00</td>\n",
       "      <td>-0.0021</td>\n",
       "    </tr>\n",
       "    <tr>\n",
       "      <th>ZN2tpp</th>\n",
       "      <td>3.3499e-04</td>\n",
       "      <td>0.0000</td>\n",
       "    </tr>\n",
       "    <tr>\n",
       "      <th>ZNabcpp</th>\n",
       "      <td>0.0000e+00</td>\n",
       "      <td>-0.0083</td>\n",
       "    </tr>\n",
       "    <tr>\n",
       "      <th>Zn2tex</th>\n",
       "      <td>3.3499e-04</td>\n",
       "      <td>0.0000</td>\n",
       "    </tr>\n",
       "  </tbody>\n",
       "</table>\n",
       "<p>2583 rows × 2 columns</p>\n",
       "</div>"
      ],
      "text/plain": [
       "<Solution 0.982 at 0x7f608bf848d0>"
      ]
     },
     "execution_count": 34,
     "metadata": {},
     "output_type": "execute_result"
    }
   ],
   "source": [
    "model.optimize()"
   ]
  },
  {
   "cell_type": "markdown",
   "metadata": {},
   "source": [
    "Sometimes a solution cannot be found. For example, setting the lower bound of the objective function to a very high value that the model cannot achieve will trigger a warning when trying to optimize the model. Parameters reported from an infeasible model are not meaningful to interpret (except in rare occasions when you may want to figure out why a model is infeasible)."
   ]
  },
  {
   "cell_type": "code",
   "execution_count": 35,
   "metadata": {},
   "outputs": [
    {
     "name": "stderr",
     "output_type": "stream",
     "text": [
      "cobra/util/solver.py:419 \u001b[1;31mUserWarning\u001b[0m: solver status is 'infeasible'\n"
     ]
    },
    {
     "data": {
      "text/html": [
       "<strong><em>infeasible</em> solution</strong>"
      ],
      "text/plain": [
       "<Solution infeasible at 0x7f608d20ac18>"
      ]
     },
     "execution_count": 35,
     "metadata": {},
     "output_type": "execute_result"
    }
   ],
   "source": [
    "infeasible_model = model.copy()\n",
    "infeasible_model.reactions.BIOMASS_Ec_iJO1366_core_53p95M.lower_bound = 100000\n",
    "infeasible_model.optimize()"
   ]
  },
  {
   "cell_type": "markdown",
   "metadata": {},
   "source": [
    "Mathematical solvers are now so fast that for computing the solution can be even faster than it takes to collect the values from the solver. If we are only interested in the flux value of a single reaction or the objective, it is faster to use `model.slim_optimize` which only does the optimization and returnsm the objective value leaving it up to you to fetch other values that you may need. For example, let's optimize and get the flux value of the `ATPM` reaction."
   ]
  },
  {
   "cell_type": "code",
   "execution_count": 36,
   "metadata": {},
   "outputs": [
    {
     "name": "stdout",
     "output_type": "stream",
     "text": [
      "CPU times: user 20 ms, sys: 0 ns, total: 20 ms\n",
      "Wall time: 19.3 ms\n"
     ]
    }
   ],
   "source": [
    "%%time\n",
    "solution = model.optimize()\n",
    "solution.fluxes['ATPM']"
   ]
  },
  {
   "cell_type": "code",
   "execution_count": 37,
   "metadata": {},
   "outputs": [
    {
     "name": "stdout",
     "output_type": "stream",
     "text": [
      "CPU times: user 0 ns, sys: 0 ns, total: 0 ns\n",
      "Wall time: 1.72 ms\n"
     ]
    }
   ],
   "source": [
    "%%time\n",
    "model.slim_optimize()\n",
    "model.reactions.ATPM.flux"
   ]
  },
  {
   "cell_type": "markdown",
   "metadata": {},
   "source": [
    "### Exercises"
   ]
  },
  {
   "cell_type": "markdown",
   "metadata": {},
   "source": [
    "Convert the cell below to code and fill in the blanks."
   ]
  },
  {
   "cell_type": "markdown",
   "metadata": {},
   "source": [
    "Optimize for acetate production at minimum 0.1 $h^{-1}$ growth rate"
   ]
  },
  {
   "cell_type": "raw",
   "metadata": {},
   "source": [
    "model.____.BIOMASS_Ec_iJO1366_core_53p95M.____ = ____\n",
    "____.____ = ___.____.EX_ac_e\n",
    "____.____()"
   ]
  },
  {
   "cell_type": "markdown",
   "metadata": {},
   "source": [
    "## The math (5)"
   ]
  },
  {
   "cell_type": "markdown",
   "metadata": {},
   "source": [
    "### The mathematical problem"
   ]
  },
  {
   "cell_type": "markdown",
   "metadata": {},
   "source": [
    "We can calculate fluxes using our model by formulating it as a mathematical problem. There, fluxes through reactions become variables and metabolites become constraints. By deciding that fluxes in and out of the system must add up to zero, we can then compute possible flux values for all reactions (if the model is feasible). We can inspect the whole equation by:"
   ]
  },
  {
   "cell_type": "code",
   "execution_count": 38,
   "metadata": {},
   "outputs": [
    {
     "name": "stdout",
     "output_type": "stream",
     "text": [
      "\\* Problem: Unknown *\\\n",
      "\n",
      "Maximize\n",
      " obj: + BIOMASS_Ec_iJO1366_core_53p95M\n",
      " - BIOMASS_Ec_iJO1366_core_53p95M_reverse_5c8b1\n",
      "\n",
      "Subject To\n",
      " r_1: + FMETTRS_reverse_3b6c6 + FTHFD_reverse_44321\n",
      " - MTHFC_reverse_f6fcc\n",
      " + 0.000223 BIOMASS_Ec_iJO1366_WT_53p95M_reverse_06c4a\n",
      " + AICART_reverse_b7b59 - 0.000223 BIOMASS_Ec_iJO1366_WT_53p95M - FTHFD\n",
      " + 0.000223 BIOMASS_Ec_iJO1366_core_53p95M_reverse_5c8b1 - FMETTRS\n",
      " + GARFT_reverse_7ecb6 - 0.000223 BIOMASS_Ec_iJO1366_core_53p95M - GARFT\n",
      " + FTHFLi - FTHFLi_reverse_a6dc7 + ULA4NFT_reverse_07217 - AICART\n",
      " - ULA4NFT + MTHFC = 0\n",
      " r_2: + PAPA120 + x_665 - PAPA120_reverse_75d70 - x_666 - DAGK120\n",
      " + DAGK120_reverse_7cd00 = 0\n",
      " r_3: - PAPA140_reverse_255f5 - DAGK140 + DAGK140_reverse_87f8f\n",
      " + PAPA140 - x_668 + x_667 = 0\n",
      " r_4: - x_670 + PAPA141 + x_669 - PAPA141_reverse_945ab\n",
      " + DAGK141_reverse_f6e5f - DAGK141 = 0\n",
      " r_5: - DAGK160 + DAGK160_reverse_0238d + x_671 + PAPA160 - x_672\n",
      " - PAPA160_reverse_c64df = 0\n",
      " r_6: - PAPA161_reverse_1bc33 + DAGK161_reverse_9bfe7 + PAPA161 + x_673\n",
      " - DAGK161 - x_674 = 0\n",
      " r_7: + x_675 - DAGK180 + PAPA180 - x_676 - PAPA180_reverse_9f7f6\n",
      " + DAGK180_reverse_eb3e3 = 0\n",
      " r_8: + DAGK181_reverse_8c0c8 - DAGK181 + x_677 - x_678 + PAPA181\n",
      " - PAPA181_reverse_fb09e = 0\n",
      " r_9: - x_682 - ALR4x_reverse_17ebf + LCARR - LCARR_reverse_9213d\n",
      " + x_681 + ALR4x = 0\n",
      " r_10: - LCARS_reverse_66c3d - x_686 + LCARS + x_685 = 0\n",
      " r_11: - GAPD_reverse_459c1 + GAPD + PGK - PGK_reverse_02696 = 0\n",
      " r_12: + DHNCOAT_reverse_58c26 - DHNCOAT + DHNCOAS\n",
      " - DHNCOAS_reverse_af3a9 = 0\n",
      " r_13: - AAMYL + AAMYL_reverse_58\n"
     ]
    }
   ],
   "source": [
    "print(str(model.solver)[0:1550])"
   ]
  },
  {
   "cell_type": "markdown",
   "metadata": {},
   "source": [
    "Mostly, we luckily do not have to care much about this as cobrapy will use optlang and dedicated mathematical solvers to do the hard work for us, but it can be good know about the separation between the metabolic model and the mathematical problem."
   ]
  },
  {
   "cell_type": "code",
   "execution_count": 39,
   "metadata": {},
   "outputs": [
    {
     "data": {
      "text/plain": [
       "5166"
      ]
     },
     "execution_count": 39,
     "metadata": {},
     "output_type": "execute_result"
    }
   ],
   "source": [
    "len(model.variables)"
   ]
  },
  {
   "cell_type": "code",
   "execution_count": 40,
   "metadata": {},
   "outputs": [
    {
     "data": {
      "text/plain": [
       "1805"
      ]
     },
     "execution_count": 40,
     "metadata": {},
     "output_type": "execute_result"
    }
   ],
   "source": [
    "len(model.constraints)"
   ]
  },
  {
   "cell_type": "markdown",
   "metadata": {},
   "source": [
    "### The stoichiometric matrix S"
   ]
  },
  {
   "cell_type": "code",
   "execution_count": 41,
   "metadata": {
    "collapsed": true
   },
   "outputs": [],
   "source": [
    "from cobra.util import create_stoichiometric_matrix"
   ]
  },
  {
   "cell_type": "code",
   "execution_count": 42,
   "metadata": {},
   "outputs": [
    {
     "data": {
      "text/plain": [
       "array([[ 0.,  0.,  0., ...,  0.,  0.,  0.],\n",
       "       [ 0.,  0.,  0., ...,  0.,  0.,  0.],\n",
       "       [ 0.,  0.,  0., ...,  0.,  0.,  0.],\n",
       "       ..., \n",
       "       [ 0.,  0.,  0., ...,  0.,  0.,  0.],\n",
       "       [ 0.,  0.,  0., ...,  0.,  0.,  0.],\n",
       "       [ 0.,  0.,  0., ..., -1., -1.,  1.]])"
      ]
     },
     "execution_count": 42,
     "metadata": {},
     "output_type": "execute_result"
    }
   ],
   "source": [
    "stoich_matrix = create_stoichiometric_matrix(model)\n",
    "stoich_matrix"
   ]
  },
  {
   "cell_type": "markdown",
   "metadata": {},
   "source": [
    "This is how the the stoichiometry matrix S looks like when visualized as a matrix plot."
   ]
  },
  {
   "cell_type": "code",
   "execution_count": 43,
   "metadata": {
    "collapsed": true
   },
   "outputs": [],
   "source": [
    "%matplotlib inline"
   ]
  },
  {
   "cell_type": "code",
   "execution_count": 44,
   "metadata": {
    "collapsed": true
   },
   "outputs": [],
   "source": [
    "import matplotlib.pyplot as plt"
   ]
  },
  {
   "cell_type": "code",
   "execution_count": 45,
   "metadata": {},
   "outputs": [
    {
     "data": {
      "text/plain": [
       "<matplotlib.lines.Line2D at 0x7f608d98d668>"
      ]
     },
     "execution_count": 45,
     "metadata": {},
     "output_type": "execute_result"
    },
    {
     "data": {
      "image/png": "[encoded data removed]",
      "text/plain": [
       "<matplotlib.figure.Figure at 0x7f608d200cc0>"
      ]
     },
     "metadata": {},
     "output_type": "display_data"
    }
   ],
   "source": [
    "plt.spy(stoich_matrix, precision=0.01, markersize=.2)"
   ]
  },
  {
   "cell_type": "markdown",
   "metadata": {},
   "source": [
    "<div class=\"alert alert-info\">\n",
    "\n",
    "**Question:** What are the diagonal and horizontal lines?\n",
    "</div>\n"
   ]
  }
 ],
 "metadata": {
  "anaconda-cloud": {},
  "kernelspec": {
   "display_name": "summer_chan_lab",
   "language": "python",
   "name": "python3"
  },
  "language_info": {
   "codemirror_mode": {
    "name": "ipython",
    "version": 3
   },
   "file_extension": ".py",
   "mimetype": "text/x-python",
   "name": "python",
   "nbconvert_exporter": "python",
   "pygments_lexer": "ipython3",
   "version": "3.10.18"
  },
  "toc": {
   "colors": {
    "hover_highlight": "#DAA520",
    "navigate_num": "#000000",
    "navigate_text": "#333333",
    "running_highlight": "#FF0000",
    "selected_highlight": "#FFD700",
    "sidebar_border": "#EEEEEE",
    "wrapper_background": "#FFFFFF"
   },
   "moveMenuLeft": true,
   "nav_menu": {
    "height": "284px",
    "width": "252px"
   },
   "navigate_menu": true,
   "number_sections": false,
   "sideBar": true,
   "threshold": "3",
   "toc_cell": false,
   "toc_section_display": "block",
   "toc_window_display": true,
   "widenNotebook": false
  }
 },
 "nbformat": 4,
 "nbformat_minor": 1
}
