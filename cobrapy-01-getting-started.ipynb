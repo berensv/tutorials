{
 "cells": [
  {
   "cell_type": "markdown",
   "metadata": {},
   "source": [
    "# Quick start"
   ]
  },
  {
   "cell_type": "markdown",
   "metadata": {},
   "source": [
    "## Loading a model (1)"
   ]
  },
  {
   "cell_type": "code",
   "execution_count": 1,
   "metadata": {
    "collapsed": true
   },
   "outputs": [],
   "source": [
    "from cobra.io import read_sbml_model"
   ]
  },
  {
   "cell_type": "code",
   "execution_count": 2,
   "metadata": {
    "collapsed": true
   },
   "outputs": [],
   "source": [
    "model = read_sbml_model('data/iJO1366.xml.gz')"
   ]
  },
  {
   "cell_type": "code",
   "execution_count": 3,
   "metadata": {},
   "outputs": [
    {
     "data": {
      "text/html": [
       "\n",
       "        <table>\n",
       "            <tr>\n",
       "                <td><strong>Name</strong></td>\n",
       "                <td>iJO1366</td>\n",
       "            </tr><tr>\n",
       "                <td><strong>Memory address</strong></td>\n",
       "                <td>1b5924454b0</td>\n",
       "            </tr><tr>\n",
       "                <td><strong>Number of metabolites</strong></td>\n",
       "                <td>1805</td>\n",
       "            </tr><tr>\n",
       "                <td><strong>Number of reactions</strong></td>\n",
       "                <td>2583</td>\n",
       "            </tr><tr>\n",
       "                <td><strong>Number of genes</strong></td>\n",
       "                <td>1367</td>\n",
       "            </tr><tr>\n",
       "                <td><strong>Number of groups</strong></td>\n",
       "                <td>36</td>\n",
       "            </tr><tr>\n",
       "                <td><strong>Objective expression</strong></td>\n",
       "                <td>1.0*BIOMASS_Ec_iJO1366_core_53p95M - 1.0*BIOMASS_Ec_iJO1366_core_53p95M_reverse_5c8b1</td>\n",
       "            </tr><tr>\n",
       "                <td><strong>Compartments</strong></td>\n",
       "                <td>cytosol, extracellular space, periplasm</td>\n",
       "            </tr>\n",
       "          </table>"
      ],
      "text/plain": [
       "<Model iJO1366 at 0x1b5924454b0>"
      ]
     },
     "execution_count": 3,
     "metadata": {},
     "output_type": "execute_result"
    }
   ],
   "source": [
    "model"
   ]
  },
  {
   "cell_type": "markdown",
   "metadata": {},
   "source": [
    "## Simulations (2 + 2)"
   ]
  },
  {
   "cell_type": "code",
   "execution_count": 4,
   "metadata": {},
   "outputs": [
    {
     "data": {
      "text/plain": [
       "<optlang.cplex_interface.Model at 0x1b592445720>"
      ]
     },
     "execution_count": 4,
     "metadata": {},
     "output_type": "execute_result"
    }
   ],
   "source": [
    "model.solver"
   ]
  },
  {
   "cell_type": "code",
   "execution_count": 5,
   "metadata": {
    "collapsed": true
   },
   "outputs": [],
   "source": [
    "model.solver = \"cplex\"\n",
    "# cplex is the specific solver we're using"
   ]
  },
  {
   "cell_type": "code",
   "execution_count": 6,
   "metadata": {
    "collapsed": true
   },
   "outputs": [],
   "source": [
    "solution = model.optimize()"
   ]
  },
  {
   "cell_type": "markdown",
   "metadata": {},
   "source": [
    "Check the growth rate:"
   ]
  },
  {
   "cell_type": "code",
   "execution_count": 7,
   "metadata": {},
   "outputs": [
    {
     "data": {
      "text/plain": [
       "[<Reaction BIOMASS_Ec_iJO1366_WT_53p95M at 0x7f4c228c5240>,\n",
       " <Reaction BIOMASS_Ec_iJO1366_core_53p95M at 0x7f4c228c5400>]"
      ]
     },
     "execution_count": 7,
     "metadata": {},
     "output_type": "execute_result"
    }
   ],
   "source": [
    "model.reactions.query(\"BIOMASS\")"
   ]
  },
  {
   "cell_type": "code",
   "execution_count": 8,
   "metadata": {},
   "outputs": [
    {
     "data": {
      "text/plain": [
       "0.98237181272698204"
      ]
     },
     "execution_count": 8,
     "metadata": {},
     "output_type": "execute_result"
    }
   ],
   "source": [
    "solution.fluxes.BIOMASS_Ec_iJO1366_core_53p95M"
   ]
  },
  {
   "cell_type": "markdown",
   "metadata": {},
   "source": [
    "We can investigate all fluxes by creating a data frame and getting all fluxes that are greater than 0.0001 mmol/g* DWh$^{-1}$"
   ]
  },
  {
   "cell_type": "code",
   "execution_count": 9,
   "metadata": {},
   "outputs": [
    {
     "data": {
      "text/html": [
       "<div>\n",
       "<style>\n",
       "    .dataframe thead tr:only-child th {\n",
       "        text-align: right;\n",
       "    }\n",
       "\n",
       "    .dataframe thead th {\n",
       "        text-align: left;\n",
       "    }\n",
       "\n",
       "    .dataframe tbody tr th {\n",
       "        vertical-align: top;\n",
       "    }\n",
       "</style>\n",
       "<table border=\"1\" class=\"dataframe\">\n",
       "  <thead>\n",
       "    <tr style=\"text-align: right;\">\n",
       "      <th></th>\n",
       "      <th>fluxes</th>\n",
       "      <th>reduced_costs</th>\n",
       "    </tr>\n",
       "  </thead>\n",
       "  <tbody>\n",
       "    <tr>\n",
       "      <th>DM_4crsol_c</th>\n",
       "      <td>0.0002</td>\n",
       "      <td>0.0000e+00</td>\n",
       "    </tr>\n",
       "    <tr>\n",
       "      <th>DM_5drib_c</th>\n",
       "      <td>0.0002</td>\n",
       "      <td>0.0000e+00</td>\n",
       "    </tr>\n",
       "    <tr>\n",
       "      <th>DM_mththf_c</th>\n",
       "      <td>0.0004</td>\n",
       "      <td>0.0000e+00</td>\n",
       "    </tr>\n",
       "    <tr>\n",
       "      <th>BIOMASS_Ec_iJO1366_core_53p95M</th>\n",
       "      <td>0.9824</td>\n",
       "      <td>1.8492e-15</td>\n",
       "    </tr>\n",
       "    <tr>\n",
       "      <th>EX_ca2_e</th>\n",
       "      <td>-0.0051</td>\n",
       "      <td>0.0000e+00</td>\n",
       "    </tr>\n",
       "    <tr>\n",
       "      <th>...</th>\n",
       "      <td>...</td>\n",
       "      <td>...</td>\n",
       "    </tr>\n",
       "    <tr>\n",
       "      <th>UPPDC1</th>\n",
       "      <td>0.0002</td>\n",
       "      <td>0.0000e+00</td>\n",
       "    </tr>\n",
       "    <tr>\n",
       "      <th>USHD</th>\n",
       "      <td>0.0191</td>\n",
       "      <td>0.0000e+00</td>\n",
       "    </tr>\n",
       "    <tr>\n",
       "      <th>VALTA</th>\n",
       "      <td>-0.4157</td>\n",
       "      <td>0.0000e+00</td>\n",
       "    </tr>\n",
       "    <tr>\n",
       "      <th>ZN2tpp</th>\n",
       "      <td>0.0003</td>\n",
       "      <td>0.0000e+00</td>\n",
       "    </tr>\n",
       "    <tr>\n",
       "      <th>Zn2tex</th>\n",
       "      <td>0.0003</td>\n",
       "      <td>-0.0000e+00</td>\n",
       "    </tr>\n",
       "  </tbody>\n",
       "</table>\n",
       "<p>413 rows × 2 columns</p>\n",
       "</div>"
      ],
      "text/plain": [
       "                                fluxes  reduced_costs\n",
       "DM_4crsol_c                     0.0002     0.0000e+00\n",
       "DM_5drib_c                      0.0002     0.0000e+00\n",
       "DM_mththf_c                     0.0004     0.0000e+00\n",
       "BIOMASS_Ec_iJO1366_core_53p95M  0.9824     1.8492e-15\n",
       "EX_ca2_e                       -0.0051     0.0000e+00\n",
       "...                                ...            ...\n",
       "UPPDC1                          0.0002     0.0000e+00\n",
       "USHD                            0.0191     0.0000e+00\n",
       "VALTA                          -0.4157     0.0000e+00\n",
       "ZN2tpp                          0.0003     0.0000e+00\n",
       "Zn2tex                          0.0003    -0.0000e+00\n",
       "\n",
       "[413 rows x 2 columns]"
      ]
     },
     "execution_count": 9,
     "metadata": {},
     "output_type": "execute_result"
    }
   ],
   "source": [
    "solution_frame = solution.to_frame()\n",
    "solution_frame[solution_frame.fluxes.abs() > 1e-4]"
   ]
  },
  {
   "cell_type": "markdown",
   "metadata": {},
   "source": [
    "### Exercise"
   ]
  },
  {
   "cell_type": "markdown",
   "metadata": {},
   "source": [
    "Convert the cell below to code and fill in the blanks. Read another model and use FBA to figure out the optimal growth rate."
   ]
  },
  {
   "cell_type": "code",
   "execution_count": null,
   "metadata": {},
   "outputs": [],
   "source": [
    "# Step 1: Importing the model\n",
    "from cobra.io import read_sbml_model\n",
    "model = read_sbml_model(r\"C:\\Users\\vivia\\OneDrive - Colostate\\Documents\\GitHub\\tutorials\\Sphingomonas_Paucimobilis_16S.sbml\")\n",
    "model\n",
    "# Step 2: Setting the solver\n",
    "model.solver\n",
    "model.solver = \"cplex\""
   ]
  },
  {
   "cell_type": "code",
   "execution_count": 26,
   "metadata": {},
   "outputs": [
    {
     "name": "stdout",
     "output_type": "stream",
     "text": [
      "The objective function solution is 63.29454683062636\n",
      "Maximize\n",
      "1.0*Growth - 1.0*Growth_reverse_699ae\n"
     ]
    },
    {
     "data": {
      "text/html": [
       "<div>\n",
       "<style scoped>\n",
       "    .dataframe tbody tr th:only-of-type {\n",
       "        vertical-align: middle;\n",
       "    }\n",
       "\n",
       "    .dataframe tbody tr th {\n",
       "        vertical-align: top;\n",
       "    }\n",
       "\n",
       "    .dataframe thead th {\n",
       "        text-align: right;\n",
       "    }\n",
       "</style>\n",
       "<table border=\"1\" class=\"dataframe\">\n",
       "  <thead>\n",
       "    <tr style=\"text-align: right;\">\n",
       "      <th></th>\n",
       "      <th>fluxes</th>\n",
       "      <th>reduced_costs</th>\n",
       "    </tr>\n",
       "  </thead>\n",
       "  <tbody>\n",
       "    <tr>\n",
       "      <th>EX_4hba_e</th>\n",
       "      <td>1000.000000</td>\n",
       "      <td>0.000000e+00</td>\n",
       "    </tr>\n",
       "    <tr>\n",
       "      <th>EX_4hbz_e</th>\n",
       "      <td>-999.985885</td>\n",
       "      <td>0.000000e+00</td>\n",
       "    </tr>\n",
       "    <tr>\n",
       "      <th>EX_abt__L_e</th>\n",
       "      <td>-1000.000000</td>\n",
       "      <td>0.000000e+00</td>\n",
       "    </tr>\n",
       "    <tr>\n",
       "      <th>EX_acald_e</th>\n",
       "      <td>-924.430657</td>\n",
       "      <td>0.000000e+00</td>\n",
       "    </tr>\n",
       "    <tr>\n",
       "      <th>EX_actn__R_e</th>\n",
       "      <td>-62.761987</td>\n",
       "      <td>0.000000e+00</td>\n",
       "    </tr>\n",
       "    <tr>\n",
       "      <th>...</th>\n",
       "      <td>...</td>\n",
       "      <td>...</td>\n",
       "    </tr>\n",
       "    <tr>\n",
       "      <th>XPPT</th>\n",
       "      <td>15.395006</td>\n",
       "      <td>0.000000e+00</td>\n",
       "    </tr>\n",
       "    <tr>\n",
       "      <th>XTSNt2</th>\n",
       "      <td>15.395006</td>\n",
       "      <td>0.000000e+00</td>\n",
       "    </tr>\n",
       "    <tr>\n",
       "      <th>ilvg</th>\n",
       "      <td>18.388901</td>\n",
       "      <td>0.000000e+00</td>\n",
       "    </tr>\n",
       "    <tr>\n",
       "      <th>r2465_1</th>\n",
       "      <td>-0.021583</td>\n",
       "      <td>-0.000000e+00</td>\n",
       "    </tr>\n",
       "    <tr>\n",
       "      <th>Growth</th>\n",
       "      <td>63.294547</td>\n",
       "      <td>1.443290e-15</td>\n",
       "    </tr>\n",
       "  </tbody>\n",
       "</table>\n",
       "<p>343 rows × 2 columns</p>\n",
       "</div>"
      ],
      "text/plain": [
       "                   fluxes  reduced_costs\n",
       "EX_4hba_e     1000.000000   0.000000e+00\n",
       "EX_4hbz_e     -999.985885   0.000000e+00\n",
       "EX_abt__L_e  -1000.000000   0.000000e+00\n",
       "EX_acald_e    -924.430657   0.000000e+00\n",
       "EX_actn__R_e   -62.761987   0.000000e+00\n",
       "...                   ...            ...\n",
       "XPPT            15.395006   0.000000e+00\n",
       "XTSNt2          15.395006   0.000000e+00\n",
       "ilvg            18.388901   0.000000e+00\n",
       "r2465_1         -0.021583  -0.000000e+00\n",
       "Growth          63.294547   1.443290e-15\n",
       "\n",
       "[343 rows x 2 columns]"
      ]
     },
     "execution_count": 26,
     "metadata": {},
     "output_type": "execute_result"
    }
   ],
   "source": [
    "# Step 3: Running a FBA\n",
    "solutions = model.optimize()\n",
    "print(f'The objective function solution is {solutions.objective_value}')\n",
    "# Identifying the objective function \n",
    "print(model.objective)\n",
    "solutions.fluxes.Growth\n",
    "\n",
    "# Step 4: Converting this to a dataframe ...\n",
    "solutions_frame = solutions.to_frame()\n",
    "# Displaying all fluxes > 0.0001\n",
    "solutions_frame[solutions_frame.fluxes.abs() > 0.0001]"
   ]
  }
 ],
 "metadata": {
  "anaconda-cloud": {},
  "kernelspec": {
   "display_name": "summer_chan_lab",
   "language": "python",
   "name": "python3"
  },
  "language_info": {
   "codemirror_mode": {
    "name": "ipython",
    "version": 3
   },
   "file_extension": ".py",
   "mimetype": "text/x-python",
   "name": "python",
   "nbconvert_exporter": "python",
   "pygments_lexer": "ipython3",
   "version": "3.10.18"
  },
  "toc": {
   "colors": {
    "hover_highlight": "#DAA520",
    "navigate_num": "#000000",
    "navigate_text": "#333333",
    "running_highlight": "#FF0000",
    "selected_highlight": "#FFD700",
    "sidebar_border": "#EEEEEE",
    "wrapper_background": "#FFFFFF"
   },
   "moveMenuLeft": true,
   "nav_menu": {
    "height": "86px",
    "width": "252px"
   },
   "navigate_menu": true,
   "number_sections": false,
   "sideBar": true,
   "threshold": "3",
   "toc_cell": false,
   "toc_section_display": "block",
   "toc_window_display": true,
   "widenNotebook": false
  }
 },
 "nbformat": 4,
 "nbformat_minor": 1
}
